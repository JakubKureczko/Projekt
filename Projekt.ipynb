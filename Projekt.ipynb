{
 "cells": [
  {
   "cell_type": "markdown",
   "id": "f5031996",
   "metadata": {},
   "source": [
    "Model prognozujący frekwencję na meczach domowych Jagiellonii Białystok. Projekt stworzony w celu poznania języka Python oraz zagadanień uczenia maszynowego. Tematyka związana z własnymi zainteresowaniami piłką nożną i białostockim klubem. "
   ]
  },
  {
   "cell_type": "code",
   "execution_count": 1,
   "id": "61fa4721",
   "metadata": {},
   "outputs": [],
   "source": [
    "import pandas as pd\n",
    "import numpy as np\n",
    "import warnings\n",
    "warnings.filterwarnings('ignore')\n",
    "import seaborn as sns\n",
    "import plotly.express as px"
   ]
  },
  {
   "cell_type": "markdown",
   "id": "3e130134",
   "metadata": {},
   "source": [
    "Zebrałem dane o frekwencji na meczach domowych Jagiellonii Białystok w sezonach 2015/2016 - 2018/2019\n",
    "oraz 2022/2023 - 2023/2024. Sezony 2019/2020 - 2021/2022 zostały przeze mnie pominięte z powodu okresowych ograniczeń covidowych wpływających na frekwencję i mogących nieodpowiednio wpływać na późniejsze predykcje. Dane zawierają informacje o dniu tygodnia i godzinie rozegrania meczu, temperaturze, pozycji Jagiellonii przed meczem oraz rywalu. Dane zebrano na podstawie serwisów: transfermarkt.pl, 90minut.pl oraz wikipedia.org. \n",
    "\n"
   ]
  },
  {
   "cell_type": "code",
   "execution_count": 2,
   "id": "53504bbc",
   "metadata": {},
   "outputs": [],
   "source": [
    "df = pd.read_csv('./Dane1.csv')"
   ]
  },
  {
   "cell_type": "code",
   "execution_count": 3,
   "id": "258d5738",
   "metadata": {
    "scrolled": false
   },
   "outputs": [
    {
     "data": {
      "text/html": [
       "<div>\n",
       "<style scoped>\n",
       "    .dataframe tbody tr th:only-of-type {\n",
       "        vertical-align: middle;\n",
       "    }\n",
       "\n",
       "    .dataframe tbody tr th {\n",
       "        vertical-align: top;\n",
       "    }\n",
       "\n",
       "    .dataframe thead th {\n",
       "        text-align: right;\n",
       "    }\n",
       "</style>\n",
       "<table border=\"1\" class=\"dataframe\">\n",
       "  <thead>\n",
       "    <tr style=\"text-align: right;\">\n",
       "      <th></th>\n",
       "      <th>sezon</th>\n",
       "      <th>dzien_tygodnia</th>\n",
       "      <th>godzina</th>\n",
       "      <th>temperatura</th>\n",
       "      <th>pozycja_przed_meczem</th>\n",
       "      <th>rywal</th>\n",
       "      <th>frekwencja</th>\n",
       "    </tr>\n",
       "  </thead>\n",
       "  <tbody>\n",
       "    <tr>\n",
       "      <th>0</th>\n",
       "      <td>2015/2016</td>\n",
       "      <td>niedziela</td>\n",
       "      <td>15:30</td>\n",
       "      <td>16</td>\n",
       "      <td>11</td>\n",
       "      <td>Nieciecza</td>\n",
       "      <td>10653</td>\n",
       "    </tr>\n",
       "    <tr>\n",
       "      <th>1</th>\n",
       "      <td>2015/2016</td>\n",
       "      <td>niedziela</td>\n",
       "      <td>15:30</td>\n",
       "      <td>26</td>\n",
       "      <td>7</td>\n",
       "      <td>Zagłębie Lubin</td>\n",
       "      <td>11055</td>\n",
       "    </tr>\n",
       "    <tr>\n",
       "      <th>2</th>\n",
       "      <td>2015/2016</td>\n",
       "      <td>niedziela</td>\n",
       "      <td>15:30</td>\n",
       "      <td>28</td>\n",
       "      <td>7</td>\n",
       "      <td>Ruch Chorzów</td>\n",
       "      <td>12758</td>\n",
       "    </tr>\n",
       "    <tr>\n",
       "      <th>3</th>\n",
       "      <td>2015/2016</td>\n",
       "      <td>niedziela</td>\n",
       "      <td>18:00</td>\n",
       "      <td>26</td>\n",
       "      <td>4</td>\n",
       "      <td>Legia Warszawa</td>\n",
       "      <td>22172</td>\n",
       "    </tr>\n",
       "    <tr>\n",
       "      <th>4</th>\n",
       "      <td>2015/2016</td>\n",
       "      <td>niedziela</td>\n",
       "      <td>18:00</td>\n",
       "      <td>15</td>\n",
       "      <td>10</td>\n",
       "      <td>Lech Poznań</td>\n",
       "      <td>19177</td>\n",
       "    </tr>\n",
       "    <tr>\n",
       "      <th>5</th>\n",
       "      <td>2015/2016</td>\n",
       "      <td>piątek</td>\n",
       "      <td>20:30</td>\n",
       "      <td>9</td>\n",
       "      <td>7</td>\n",
       "      <td>Lechia Gdańsk</td>\n",
       "      <td>11195</td>\n",
       "    </tr>\n",
       "    <tr>\n",
       "      <th>6</th>\n",
       "      <td>2015/2016</td>\n",
       "      <td>piątek</td>\n",
       "      <td>20:30</td>\n",
       "      <td>10</td>\n",
       "      <td>11</td>\n",
       "      <td>Wisła Kraków</td>\n",
       "      <td>10120</td>\n",
       "    </tr>\n",
       "    <tr>\n",
       "      <th>7</th>\n",
       "      <td>2015/2016</td>\n",
       "      <td>sobota</td>\n",
       "      <td>20:30</td>\n",
       "      <td>3</td>\n",
       "      <td>13</td>\n",
       "      <td>Piast Gliwice</td>\n",
       "      <td>8523</td>\n",
       "    </tr>\n",
       "    <tr>\n",
       "      <th>8</th>\n",
       "      <td>2015/2016</td>\n",
       "      <td>sobota</td>\n",
       "      <td>15:30</td>\n",
       "      <td>4</td>\n",
       "      <td>13</td>\n",
       "      <td>Korona Kielce</td>\n",
       "      <td>7120</td>\n",
       "    </tr>\n",
       "    <tr>\n",
       "      <th>9</th>\n",
       "      <td>2015/2016</td>\n",
       "      <td>piątek</td>\n",
       "      <td>20:30</td>\n",
       "      <td>7</td>\n",
       "      <td>11</td>\n",
       "      <td>Górnik Zabrze</td>\n",
       "      <td>6734</td>\n",
       "    </tr>\n",
       "  </tbody>\n",
       "</table>\n",
       "</div>"
      ],
      "text/plain": [
       "       sezon dzien_tygodnia godzina  temperatura  pozycja_przed_meczem  \\\n",
       "0  2015/2016      niedziela   15:30           16                    11   \n",
       "1  2015/2016      niedziela   15:30           26                     7   \n",
       "2  2015/2016      niedziela   15:30           28                     7   \n",
       "3  2015/2016      niedziela   18:00           26                     4   \n",
       "4  2015/2016      niedziela   18:00           15                    10   \n",
       "5  2015/2016         piątek   20:30            9                     7   \n",
       "6  2015/2016         piątek   20:30           10                    11   \n",
       "7  2015/2016         sobota   20:30            3                    13   \n",
       "8  2015/2016         sobota   15:30            4                    13   \n",
       "9  2015/2016         piątek   20:30            7                    11   \n",
       "\n",
       "            rywal  frekwencja  \n",
       "0       Nieciecza       10653  \n",
       "1  Zagłębie Lubin       11055  \n",
       "2    Ruch Chorzów       12758  \n",
       "3  Legia Warszawa       22172  \n",
       "4     Lech Poznań       19177  \n",
       "5   Lechia Gdańsk       11195  \n",
       "6    Wisła Kraków       10120  \n",
       "7   Piast Gliwice        8523  \n",
       "8   Korona Kielce        7120  \n",
       "9   Górnik Zabrze        6734  "
      ]
     },
     "execution_count": 3,
     "metadata": {},
     "output_type": "execute_result"
    }
   ],
   "source": [
    "df.head(10)"
   ]
  },
  {
   "cell_type": "code",
   "execution_count": 3,
   "id": "32f477c9",
   "metadata": {},
   "outputs": [
    {
     "data": {
      "text/plain": [
       "(105, 7)"
      ]
     },
     "execution_count": 3,
     "metadata": {},
     "output_type": "execute_result"
    }
   ],
   "source": [
    "df.shape"
   ]
  },
  {
   "cell_type": "markdown",
   "id": "2a40b9f3",
   "metadata": {},
   "source": [
    "Sprawdzenie czy dane zawierają duplikaty"
   ]
  },
  {
   "cell_type": "code",
   "execution_count": 4,
   "id": "379c7966",
   "metadata": {
    "scrolled": true
   },
   "outputs": [
    {
     "data": {
      "text/plain": [
       "0"
      ]
     },
     "execution_count": 4,
     "metadata": {},
     "output_type": "execute_result"
    }
   ],
   "source": [
    "df.duplicated().sum()"
   ]
  },
  {
   "cell_type": "markdown",
   "id": "3f0d90f1",
   "metadata": {},
   "source": [
    "Sprawdzenie czy istnieją puste wartości"
   ]
  },
  {
   "cell_type": "code",
   "execution_count": 5,
   "id": "65dc2809",
   "metadata": {},
   "outputs": [
    {
     "data": {
      "text/plain": [
       "sezon                   0\n",
       "dzien_tygodnia          0\n",
       "godzina                 0\n",
       "temperatura             0\n",
       "pozycja_przed_meczem    0\n",
       "rywal                   0\n",
       "frekwencja              0\n",
       "dtype: int64"
      ]
     },
     "execution_count": 5,
     "metadata": {},
     "output_type": "execute_result"
    }
   ],
   "source": [
    "df.isna().sum()"
   ]
  },
  {
   "cell_type": "markdown",
   "id": "6707183f",
   "metadata": {},
   "source": [
    "Wyświetlenie podstawowych informacji o zbiorze danych"
   ]
  },
  {
   "cell_type": "code",
   "execution_count": 6,
   "id": "81ce49e6",
   "metadata": {
    "scrolled": true
   },
   "outputs": [
    {
     "name": "stdout",
     "output_type": "stream",
     "text": [
      "<class 'pandas.core.frame.DataFrame'>\n",
      "RangeIndex: 105 entries, 0 to 104\n",
      "Data columns (total 7 columns):\n",
      " #   Column                Non-Null Count  Dtype \n",
      "---  ------                --------------  ----- \n",
      " 0   sezon                 105 non-null    object\n",
      " 1   dzien_tygodnia        105 non-null    object\n",
      " 2   godzina               105 non-null    object\n",
      " 3   temperatura           105 non-null    int64 \n",
      " 4   pozycja_przed_meczem  105 non-null    int64 \n",
      " 5   rywal                 105 non-null    object\n",
      " 6   frekwencja            105 non-null    int64 \n",
      "dtypes: int64(3), object(4)\n",
      "memory usage: 5.9+ KB\n"
     ]
    }
   ],
   "source": [
    "df.info()"
   ]
  },
  {
   "cell_type": "markdown",
   "id": "ea3efd9e",
   "metadata": {},
   "source": [
    "Wyświetlenie statystyk opisowych danych numerycznych "
   ]
  },
  {
   "cell_type": "code",
   "execution_count": 7,
   "id": "d859044e",
   "metadata": {
    "scrolled": true
   },
   "outputs": [
    {
     "data": {
      "text/html": [
       "<div>\n",
       "<style scoped>\n",
       "    .dataframe tbody tr th:only-of-type {\n",
       "        vertical-align: middle;\n",
       "    }\n",
       "\n",
       "    .dataframe tbody tr th {\n",
       "        vertical-align: top;\n",
       "    }\n",
       "\n",
       "    .dataframe thead th {\n",
       "        text-align: right;\n",
       "    }\n",
       "</style>\n",
       "<table border=\"1\" class=\"dataframe\">\n",
       "  <thead>\n",
       "    <tr style=\"text-align: right;\">\n",
       "      <th></th>\n",
       "      <th>temperatura</th>\n",
       "      <th>pozycja_przed_meczem</th>\n",
       "      <th>frekwencja</th>\n",
       "    </tr>\n",
       "  </thead>\n",
       "  <tbody>\n",
       "    <tr>\n",
       "      <th>count</th>\n",
       "      <td>105.0</td>\n",
       "      <td>105.0</td>\n",
       "      <td>105.0</td>\n",
       "    </tr>\n",
       "    <tr>\n",
       "      <th>mean</th>\n",
       "      <td>12.0</td>\n",
       "      <td>5.0</td>\n",
       "      <td>11005.0</td>\n",
       "    </tr>\n",
       "    <tr>\n",
       "      <th>std</th>\n",
       "      <td>9.0</td>\n",
       "      <td>4.0</td>\n",
       "      <td>4257.0</td>\n",
       "    </tr>\n",
       "    <tr>\n",
       "      <th>min</th>\n",
       "      <td>-11.0</td>\n",
       "      <td>1.0</td>\n",
       "      <td>4111.0</td>\n",
       "    </tr>\n",
       "    <tr>\n",
       "      <th>25%</th>\n",
       "      <td>5.0</td>\n",
       "      <td>2.0</td>\n",
       "      <td>8123.0</td>\n",
       "    </tr>\n",
       "    <tr>\n",
       "      <th>50%</th>\n",
       "      <td>11.0</td>\n",
       "      <td>3.0</td>\n",
       "      <td>10006.0</td>\n",
       "    </tr>\n",
       "    <tr>\n",
       "      <th>75%</th>\n",
       "      <td>18.0</td>\n",
       "      <td>9.0</td>\n",
       "      <td>13240.0</td>\n",
       "    </tr>\n",
       "    <tr>\n",
       "      <th>max</th>\n",
       "      <td>30.0</td>\n",
       "      <td>18.0</td>\n",
       "      <td>22394.0</td>\n",
       "    </tr>\n",
       "  </tbody>\n",
       "</table>\n",
       "</div>"
      ],
      "text/plain": [
       "       temperatura  pozycja_przed_meczem  frekwencja\n",
       "count        105.0                 105.0       105.0\n",
       "mean          12.0                   5.0     11005.0\n",
       "std            9.0                   4.0      4257.0\n",
       "min          -11.0                   1.0      4111.0\n",
       "25%            5.0                   2.0      8123.0\n",
       "50%           11.0                   3.0     10006.0\n",
       "75%           18.0                   9.0     13240.0\n",
       "max           30.0                  18.0     22394.0"
      ]
     },
     "execution_count": 7,
     "metadata": {},
     "output_type": "execute_result"
    }
   ],
   "source": [
    "df.describe().round()"
   ]
  },
  {
   "cell_type": "markdown",
   "id": "e1144eaf",
   "metadata": {},
   "source": [
    "Obliczenie macierzy korelacji"
   ]
  },
  {
   "cell_type": "code",
   "execution_count": 8,
   "id": "16ebb7f2",
   "metadata": {},
   "outputs": [],
   "source": [
    "macierz_korelacji = df.corr()"
   ]
  },
  {
   "cell_type": "code",
   "execution_count": 9,
   "id": "393000e0",
   "metadata": {
    "scrolled": true
   },
   "outputs": [
    {
     "name": "stdout",
     "output_type": "stream",
     "text": [
      "                      temperatura  pozycja_przed_meczem  frekwencja\n",
      "temperatura              1.000000              0.056218    0.511215\n",
      "pozycja_przed_meczem     0.056218              1.000000   -0.332025\n",
      "frekwencja               0.511215             -0.332025    1.000000\n"
     ]
    }
   ],
   "source": [
    "print(macierz_korelacji)"
   ]
  },
  {
   "cell_type": "markdown",
   "id": "cb53ce7b",
   "metadata": {},
   "source": [
    "Postanowiłem zakodować kolumnę 'rywal' na podstawie średniej frekwencji na meczach z danym rywalem. "
   ]
  },
  {
   "cell_type": "code",
   "execution_count": 10,
   "id": "515643fd",
   "metadata": {},
   "outputs": [],
   "source": [
    "srednia_frekwencja = df.groupby('rywal')['frekwencja'].mean().sort_values().reset_index().round()"
   ]
  },
  {
   "cell_type": "code",
   "execution_count": 11,
   "id": "98f56a80",
   "metadata": {},
   "outputs": [
    {
     "data": {
      "text/html": [
       "<div>\n",
       "<style scoped>\n",
       "    .dataframe tbody tr th:only-of-type {\n",
       "        vertical-align: middle;\n",
       "    }\n",
       "\n",
       "    .dataframe tbody tr th {\n",
       "        vertical-align: top;\n",
       "    }\n",
       "\n",
       "    .dataframe thead th {\n",
       "        text-align: right;\n",
       "    }\n",
       "</style>\n",
       "<table border=\"1\" class=\"dataframe\">\n",
       "  <thead>\n",
       "    <tr style=\"text-align: right;\">\n",
       "      <th></th>\n",
       "      <th>rywal</th>\n",
       "      <th>frekwencja</th>\n",
       "    </tr>\n",
       "  </thead>\n",
       "  <tbody>\n",
       "    <tr>\n",
       "      <th>0</th>\n",
       "      <td>Z. Sosnowiec</td>\n",
       "      <td>6541.0</td>\n",
       "    </tr>\n",
       "    <tr>\n",
       "      <th>1</th>\n",
       "      <td>Górnik Łęczna</td>\n",
       "      <td>7390.0</td>\n",
       "    </tr>\n",
       "    <tr>\n",
       "      <th>2</th>\n",
       "      <td>Korona Kielce</td>\n",
       "      <td>7488.0</td>\n",
       "    </tr>\n",
       "    <tr>\n",
       "      <th>3</th>\n",
       "      <td>Stal Mielec</td>\n",
       "      <td>7720.0</td>\n",
       "    </tr>\n",
       "    <tr>\n",
       "      <th>4</th>\n",
       "      <td>Zagłębie Lubin</td>\n",
       "      <td>8218.0</td>\n",
       "    </tr>\n",
       "    <tr>\n",
       "      <th>5</th>\n",
       "      <td>Piast Gliwice</td>\n",
       "      <td>8260.0</td>\n",
       "    </tr>\n",
       "    <tr>\n",
       "      <th>6</th>\n",
       "      <td>Raków</td>\n",
       "      <td>8328.0</td>\n",
       "    </tr>\n",
       "    <tr>\n",
       "      <th>7</th>\n",
       "      <td>P. Niepołomice</td>\n",
       "      <td>8478.0</td>\n",
       "    </tr>\n",
       "    <tr>\n",
       "      <th>8</th>\n",
       "      <td>Warta Poznań</td>\n",
       "      <td>8481.0</td>\n",
       "    </tr>\n",
       "    <tr>\n",
       "      <th>9</th>\n",
       "      <td>Podbeskidzie</td>\n",
       "      <td>8792.0</td>\n",
       "    </tr>\n",
       "    <tr>\n",
       "      <th>10</th>\n",
       "      <td>Górnik Zabrze</td>\n",
       "      <td>8852.0</td>\n",
       "    </tr>\n",
       "    <tr>\n",
       "      <th>11</th>\n",
       "      <td>Piast Gliwice</td>\n",
       "      <td>9578.0</td>\n",
       "    </tr>\n",
       "    <tr>\n",
       "      <th>12</th>\n",
       "      <td>Miedź Legnica</td>\n",
       "      <td>9765.0</td>\n",
       "    </tr>\n",
       "    <tr>\n",
       "      <th>13</th>\n",
       "      <td>Pogoń Szczecin</td>\n",
       "      <td>9855.0</td>\n",
       "    </tr>\n",
       "    <tr>\n",
       "      <th>14</th>\n",
       "      <td>Śląsk Wrocław</td>\n",
       "      <td>10087.0</td>\n",
       "    </tr>\n",
       "    <tr>\n",
       "      <th>15</th>\n",
       "      <td>Arka Gdynia</td>\n",
       "      <td>10090.0</td>\n",
       "    </tr>\n",
       "    <tr>\n",
       "      <th>16</th>\n",
       "      <td>Nieciecza</td>\n",
       "      <td>10351.0</td>\n",
       "    </tr>\n",
       "    <tr>\n",
       "      <th>17</th>\n",
       "      <td>Radomiak</td>\n",
       "      <td>10602.0</td>\n",
       "    </tr>\n",
       "    <tr>\n",
       "      <th>18</th>\n",
       "      <td>Lechia Gdańsk</td>\n",
       "      <td>10806.0</td>\n",
       "    </tr>\n",
       "    <tr>\n",
       "      <th>19</th>\n",
       "      <td>Sandecja</td>\n",
       "      <td>11399.0</td>\n",
       "    </tr>\n",
       "    <tr>\n",
       "      <th>20</th>\n",
       "      <td>Widzew Łódź</td>\n",
       "      <td>11664.0</td>\n",
       "    </tr>\n",
       "    <tr>\n",
       "      <th>21</th>\n",
       "      <td>Cracovia</td>\n",
       "      <td>11778.0</td>\n",
       "    </tr>\n",
       "    <tr>\n",
       "      <th>22</th>\n",
       "      <td>Wisła Płock</td>\n",
       "      <td>11821.0</td>\n",
       "    </tr>\n",
       "    <tr>\n",
       "      <th>23</th>\n",
       "      <td>Ruch Chorzów</td>\n",
       "      <td>12365.0</td>\n",
       "    </tr>\n",
       "    <tr>\n",
       "      <th>24</th>\n",
       "      <td>\\tWisła Kraków</td>\n",
       "      <td>12373.0</td>\n",
       "    </tr>\n",
       "    <tr>\n",
       "      <th>25</th>\n",
       "      <td>Wisła Kraków</td>\n",
       "      <td>13366.0</td>\n",
       "    </tr>\n",
       "    <tr>\n",
       "      <th>26</th>\n",
       "      <td>Lech Poznań</td>\n",
       "      <td>13641.0</td>\n",
       "    </tr>\n",
       "    <tr>\n",
       "      <th>27</th>\n",
       "      <td>ŁKS Łódź</td>\n",
       "      <td>15007.0</td>\n",
       "    </tr>\n",
       "    <tr>\n",
       "      <th>28</th>\n",
       "      <td>Legia Warszawa</td>\n",
       "      <td>16635.0</td>\n",
       "    </tr>\n",
       "    <tr>\n",
       "      <th>29</th>\n",
       "      <td>Legia Warszawa</td>\n",
       "      <td>18539.0</td>\n",
       "    </tr>\n",
       "  </tbody>\n",
       "</table>\n",
       "</div>"
      ],
      "text/plain": [
       "              rywal  frekwencja\n",
       "0      Z. Sosnowiec      6541.0\n",
       "1     Górnik Łęczna      7390.0\n",
       "2     Korona Kielce      7488.0\n",
       "3       Stal Mielec      7720.0\n",
       "4    Zagłębie Lubin      8218.0\n",
       "5    Piast Gliwice       8260.0\n",
       "6             Raków      8328.0\n",
       "7    P. Niepołomice      8478.0\n",
       "8      Warta Poznań      8481.0\n",
       "9      Podbeskidzie      8792.0\n",
       "10    Górnik Zabrze      8852.0\n",
       "11    Piast Gliwice      9578.0\n",
       "12    Miedź Legnica      9765.0\n",
       "13   Pogoń Szczecin      9855.0\n",
       "14    Śląsk Wrocław     10087.0\n",
       "15      Arka Gdynia     10090.0\n",
       "16        Nieciecza     10351.0\n",
       "17         Radomiak     10602.0\n",
       "18    Lechia Gdańsk     10806.0\n",
       "19         Sandecja     11399.0\n",
       "20      Widzew Łódź     11664.0\n",
       "21         Cracovia     11778.0\n",
       "22      Wisła Płock     11821.0\n",
       "23     Ruch Chorzów     12365.0\n",
       "24   \\tWisła Kraków     12373.0\n",
       "25     Wisła Kraków     13366.0\n",
       "26      Lech Poznań     13641.0\n",
       "27         ŁKS Łódź     15007.0\n",
       "28  Legia Warszawa      16635.0\n",
       "29   Legia Warszawa     18539.0"
      ]
     },
     "execution_count": 11,
     "metadata": {},
     "output_type": "execute_result"
    }
   ],
   "source": [
    "srednia_frekwencja"
   ]
  },
  {
   "cell_type": "code",
   "execution_count": 12,
   "id": "f0b36a57",
   "metadata": {},
   "outputs": [
    {
     "data": {
      "text/plain": [
       "array(['Nieciecza', 'Zagłębie Lubin', 'Ruch Chorzów', 'Legia Warszawa',\n",
       "       'Lech Poznań', 'Lechia Gdańsk', 'Wisła Kraków', 'Piast Gliwice',\n",
       "       'Korona Kielce', 'Górnik Zabrze', 'Cracovia', 'Śląsk Wrocław',\n",
       "       'Pogoń Szczecin', 'Górnik Łęczna', 'Podbeskidzie', 'Arka Gdynia',\n",
       "       'Piast Gliwice\\xa0', 'Wisła Płock', 'Sandecja', '\\tWisła Kraków',\n",
       "       'Miedź Legnica', 'Z. Sosnowiec', 'Widzew Łódź', 'Radomiak',\n",
       "       'Stal Mielec', 'Legia Warszawa\\xa0', 'Raków', 'Warta Poznań',\n",
       "       'P. Niepołomice', 'ŁKS Łódź'], dtype=object)"
      ]
     },
     "execution_count": 12,
     "metadata": {},
     "output_type": "execute_result"
    }
   ],
   "source": [
    "df['rywal'].unique()"
   ]
  },
  {
   "cell_type": "markdown",
   "id": "ed16ad6d",
   "metadata": {},
   "source": [
    "W kolumnie 'rywal' istniały białe znaki. Usunąłem je i ponownie obliczyłem średnią frekwencję. "
   ]
  },
  {
   "cell_type": "code",
   "execution_count": 13,
   "id": "1884b1e9",
   "metadata": {},
   "outputs": [],
   "source": [
    "df['rywal'] = df['rywal'].str.strip()"
   ]
  },
  {
   "cell_type": "code",
   "execution_count": 14,
   "id": "b577c6f3",
   "metadata": {},
   "outputs": [
    {
     "data": {
      "text/plain": [
       "array(['Nieciecza', 'Zagłębie Lubin', 'Ruch Chorzów', 'Legia Warszawa',\n",
       "       'Lech Poznań', 'Lechia Gdańsk', 'Wisła Kraków', 'Piast Gliwice',\n",
       "       'Korona Kielce', 'Górnik Zabrze', 'Cracovia', 'Śląsk Wrocław',\n",
       "       'Pogoń Szczecin', 'Górnik Łęczna', 'Podbeskidzie', 'Arka Gdynia',\n",
       "       'Wisła Płock', 'Sandecja', 'Miedź Legnica', 'Z. Sosnowiec',\n",
       "       'Widzew Łódź', 'Radomiak', 'Stal Mielec', 'Raków', 'Warta Poznań',\n",
       "       'P. Niepołomice', 'ŁKS Łódź'], dtype=object)"
      ]
     },
     "execution_count": 14,
     "metadata": {},
     "output_type": "execute_result"
    }
   ],
   "source": [
    "df['rywal'].unique()"
   ]
  },
  {
   "cell_type": "code",
   "execution_count": 15,
   "id": "8e6b8d59",
   "metadata": {
    "scrolled": true
   },
   "outputs": [],
   "source": [
    "srednia_frekwencja = df.groupby('rywal')['frekwencja'].mean().sort_values().reset_index().round()"
   ]
  },
  {
   "cell_type": "code",
   "execution_count": 16,
   "id": "4f127e4e",
   "metadata": {
    "scrolled": true
   },
   "outputs": [
    {
     "data": {
      "text/html": [
       "<div>\n",
       "<style scoped>\n",
       "    .dataframe tbody tr th:only-of-type {\n",
       "        vertical-align: middle;\n",
       "    }\n",
       "\n",
       "    .dataframe tbody tr th {\n",
       "        vertical-align: top;\n",
       "    }\n",
       "\n",
       "    .dataframe thead th {\n",
       "        text-align: right;\n",
       "    }\n",
       "</style>\n",
       "<table border=\"1\" class=\"dataframe\">\n",
       "  <thead>\n",
       "    <tr style=\"text-align: right;\">\n",
       "      <th></th>\n",
       "      <th>rywal</th>\n",
       "      <th>frekwencja</th>\n",
       "    </tr>\n",
       "  </thead>\n",
       "  <tbody>\n",
       "    <tr>\n",
       "      <th>0</th>\n",
       "      <td>Z. Sosnowiec</td>\n",
       "      <td>6541.0</td>\n",
       "    </tr>\n",
       "    <tr>\n",
       "      <th>1</th>\n",
       "      <td>Górnik Łęczna</td>\n",
       "      <td>7390.0</td>\n",
       "    </tr>\n",
       "    <tr>\n",
       "      <th>2</th>\n",
       "      <td>Korona Kielce</td>\n",
       "      <td>7488.0</td>\n",
       "    </tr>\n",
       "    <tr>\n",
       "      <th>3</th>\n",
       "      <td>Stal Mielec</td>\n",
       "      <td>7720.0</td>\n",
       "    </tr>\n",
       "    <tr>\n",
       "      <th>4</th>\n",
       "      <td>Zagłębie Lubin</td>\n",
       "      <td>8218.0</td>\n",
       "    </tr>\n",
       "    <tr>\n",
       "      <th>5</th>\n",
       "      <td>Raków</td>\n",
       "      <td>8328.0</td>\n",
       "    </tr>\n",
       "    <tr>\n",
       "      <th>6</th>\n",
       "      <td>P. Niepołomice</td>\n",
       "      <td>8478.0</td>\n",
       "    </tr>\n",
       "    <tr>\n",
       "      <th>7</th>\n",
       "      <td>Warta Poznań</td>\n",
       "      <td>8481.0</td>\n",
       "    </tr>\n",
       "    <tr>\n",
       "      <th>8</th>\n",
       "      <td>Podbeskidzie</td>\n",
       "      <td>8792.0</td>\n",
       "    </tr>\n",
       "    <tr>\n",
       "      <th>9</th>\n",
       "      <td>Górnik Zabrze</td>\n",
       "      <td>8852.0</td>\n",
       "    </tr>\n",
       "    <tr>\n",
       "      <th>10</th>\n",
       "      <td>Piast Gliwice</td>\n",
       "      <td>9314.0</td>\n",
       "    </tr>\n",
       "    <tr>\n",
       "      <th>11</th>\n",
       "      <td>Miedź Legnica</td>\n",
       "      <td>9765.0</td>\n",
       "    </tr>\n",
       "    <tr>\n",
       "      <th>12</th>\n",
       "      <td>Pogoń Szczecin</td>\n",
       "      <td>9855.0</td>\n",
       "    </tr>\n",
       "    <tr>\n",
       "      <th>13</th>\n",
       "      <td>Śląsk Wrocław</td>\n",
       "      <td>10087.0</td>\n",
       "    </tr>\n",
       "    <tr>\n",
       "      <th>14</th>\n",
       "      <td>Arka Gdynia</td>\n",
       "      <td>10090.0</td>\n",
       "    </tr>\n",
       "    <tr>\n",
       "      <th>15</th>\n",
       "      <td>Nieciecza</td>\n",
       "      <td>10351.0</td>\n",
       "    </tr>\n",
       "    <tr>\n",
       "      <th>16</th>\n",
       "      <td>Radomiak</td>\n",
       "      <td>10602.0</td>\n",
       "    </tr>\n",
       "    <tr>\n",
       "      <th>17</th>\n",
       "      <td>Lechia Gdańsk</td>\n",
       "      <td>10806.0</td>\n",
       "    </tr>\n",
       "    <tr>\n",
       "      <th>18</th>\n",
       "      <td>Sandecja</td>\n",
       "      <td>11399.0</td>\n",
       "    </tr>\n",
       "    <tr>\n",
       "      <th>19</th>\n",
       "      <td>Widzew Łódź</td>\n",
       "      <td>11664.0</td>\n",
       "    </tr>\n",
       "    <tr>\n",
       "      <th>20</th>\n",
       "      <td>Cracovia</td>\n",
       "      <td>11778.0</td>\n",
       "    </tr>\n",
       "    <tr>\n",
       "      <th>21</th>\n",
       "      <td>Wisła Płock</td>\n",
       "      <td>11821.0</td>\n",
       "    </tr>\n",
       "    <tr>\n",
       "      <th>22</th>\n",
       "      <td>Ruch Chorzów</td>\n",
       "      <td>12365.0</td>\n",
       "    </tr>\n",
       "    <tr>\n",
       "      <th>23</th>\n",
       "      <td>Wisła Kraków</td>\n",
       "      <td>13201.0</td>\n",
       "    </tr>\n",
       "    <tr>\n",
       "      <th>24</th>\n",
       "      <td>Lech Poznań</td>\n",
       "      <td>13641.0</td>\n",
       "    </tr>\n",
       "    <tr>\n",
       "      <th>25</th>\n",
       "      <td>ŁKS Łódź</td>\n",
       "      <td>15007.0</td>\n",
       "    </tr>\n",
       "    <tr>\n",
       "      <th>26</th>\n",
       "      <td>Legia Warszawa</td>\n",
       "      <td>18328.0</td>\n",
       "    </tr>\n",
       "  </tbody>\n",
       "</table>\n",
       "</div>"
      ],
      "text/plain": [
       "             rywal  frekwencja\n",
       "0     Z. Sosnowiec      6541.0\n",
       "1    Górnik Łęczna      7390.0\n",
       "2    Korona Kielce      7488.0\n",
       "3      Stal Mielec      7720.0\n",
       "4   Zagłębie Lubin      8218.0\n",
       "5            Raków      8328.0\n",
       "6   P. Niepołomice      8478.0\n",
       "7     Warta Poznań      8481.0\n",
       "8     Podbeskidzie      8792.0\n",
       "9    Górnik Zabrze      8852.0\n",
       "10   Piast Gliwice      9314.0\n",
       "11   Miedź Legnica      9765.0\n",
       "12  Pogoń Szczecin      9855.0\n",
       "13   Śląsk Wrocław     10087.0\n",
       "14     Arka Gdynia     10090.0\n",
       "15       Nieciecza     10351.0\n",
       "16        Radomiak     10602.0\n",
       "17   Lechia Gdańsk     10806.0\n",
       "18        Sandecja     11399.0\n",
       "19     Widzew Łódź     11664.0\n",
       "20        Cracovia     11778.0\n",
       "21     Wisła Płock     11821.0\n",
       "22    Ruch Chorzów     12365.0\n",
       "23    Wisła Kraków     13201.0\n",
       "24     Lech Poznań     13641.0\n",
       "25        ŁKS Łódź     15007.0\n",
       "26  Legia Warszawa     18328.0"
      ]
     },
     "execution_count": 16,
     "metadata": {},
     "output_type": "execute_result"
    }
   ],
   "source": [
    "srednia_frekwencja"
   ]
  },
  {
   "cell_type": "markdown",
   "id": "75632fb8",
   "metadata": {},
   "source": [
    "Zakodowałem kolumnę 'rywal'."
   ]
  },
  {
   "cell_type": "code",
   "execution_count": 17,
   "id": "5a3ae086",
   "metadata": {},
   "outputs": [],
   "source": [
    "rywale = {rywal: i for i, rywal in enumerate(srednia_frekwencja['rywal'])}"
   ]
  },
  {
   "cell_type": "code",
   "execution_count": 18,
   "id": "9a4034c9",
   "metadata": {},
   "outputs": [
    {
     "data": {
      "text/plain": [
       "{'Z. Sosnowiec': 0,\n",
       " 'Górnik Łęczna': 1,\n",
       " 'Korona Kielce': 2,\n",
       " 'Stal Mielec': 3,\n",
       " 'Zagłębie Lubin': 4,\n",
       " 'Raków': 5,\n",
       " 'P. Niepołomice': 6,\n",
       " 'Warta Poznań': 7,\n",
       " 'Podbeskidzie': 8,\n",
       " 'Górnik Zabrze': 9,\n",
       " 'Piast Gliwice': 10,\n",
       " 'Miedź Legnica': 11,\n",
       " 'Pogoń Szczecin': 12,\n",
       " 'Śląsk Wrocław': 13,\n",
       " 'Arka Gdynia': 14,\n",
       " 'Nieciecza': 15,\n",
       " 'Radomiak': 16,\n",
       " 'Lechia Gdańsk': 17,\n",
       " 'Sandecja': 18,\n",
       " 'Widzew Łódź': 19,\n",
       " 'Cracovia': 20,\n",
       " 'Wisła Płock': 21,\n",
       " 'Ruch Chorzów': 22,\n",
       " 'Wisła Kraków': 23,\n",
       " 'Lech Poznań': 24,\n",
       " 'ŁKS Łódź': 25,\n",
       " 'Legia Warszawa': 26}"
      ]
     },
     "execution_count": 18,
     "metadata": {},
     "output_type": "execute_result"
    }
   ],
   "source": [
    "rywale"
   ]
  },
  {
   "cell_type": "code",
   "execution_count": 19,
   "id": "05e2e57d",
   "metadata": {},
   "outputs": [],
   "source": [
    "df['kod_rywala'] = df['rywal'].map(rywale)"
   ]
  },
  {
   "cell_type": "code",
   "execution_count": 20,
   "id": "8c7c4aad",
   "metadata": {
    "scrolled": true
   },
   "outputs": [
    {
     "data": {
      "text/html": [
       "<div>\n",
       "<style scoped>\n",
       "    .dataframe tbody tr th:only-of-type {\n",
       "        vertical-align: middle;\n",
       "    }\n",
       "\n",
       "    .dataframe tbody tr th {\n",
       "        vertical-align: top;\n",
       "    }\n",
       "\n",
       "    .dataframe thead th {\n",
       "        text-align: right;\n",
       "    }\n",
       "</style>\n",
       "<table border=\"1\" class=\"dataframe\">\n",
       "  <thead>\n",
       "    <tr style=\"text-align: right;\">\n",
       "      <th></th>\n",
       "      <th>sezon</th>\n",
       "      <th>dzien_tygodnia</th>\n",
       "      <th>godzina</th>\n",
       "      <th>temperatura</th>\n",
       "      <th>pozycja_przed_meczem</th>\n",
       "      <th>rywal</th>\n",
       "      <th>frekwencja</th>\n",
       "      <th>kod_rywala</th>\n",
       "    </tr>\n",
       "  </thead>\n",
       "  <tbody>\n",
       "    <tr>\n",
       "      <th>0</th>\n",
       "      <td>2015/2016</td>\n",
       "      <td>niedziela</td>\n",
       "      <td>15:30</td>\n",
       "      <td>16</td>\n",
       "      <td>11</td>\n",
       "      <td>Nieciecza</td>\n",
       "      <td>10653</td>\n",
       "      <td>15</td>\n",
       "    </tr>\n",
       "    <tr>\n",
       "      <th>1</th>\n",
       "      <td>2015/2016</td>\n",
       "      <td>niedziela</td>\n",
       "      <td>15:30</td>\n",
       "      <td>26</td>\n",
       "      <td>7</td>\n",
       "      <td>Zagłębie Lubin</td>\n",
       "      <td>11055</td>\n",
       "      <td>4</td>\n",
       "    </tr>\n",
       "    <tr>\n",
       "      <th>2</th>\n",
       "      <td>2015/2016</td>\n",
       "      <td>niedziela</td>\n",
       "      <td>15:30</td>\n",
       "      <td>28</td>\n",
       "      <td>7</td>\n",
       "      <td>Ruch Chorzów</td>\n",
       "      <td>12758</td>\n",
       "      <td>22</td>\n",
       "    </tr>\n",
       "    <tr>\n",
       "      <th>3</th>\n",
       "      <td>2015/2016</td>\n",
       "      <td>niedziela</td>\n",
       "      <td>18:00</td>\n",
       "      <td>26</td>\n",
       "      <td>4</td>\n",
       "      <td>Legia Warszawa</td>\n",
       "      <td>22172</td>\n",
       "      <td>26</td>\n",
       "    </tr>\n",
       "    <tr>\n",
       "      <th>4</th>\n",
       "      <td>2015/2016</td>\n",
       "      <td>niedziela</td>\n",
       "      <td>18:00</td>\n",
       "      <td>15</td>\n",
       "      <td>10</td>\n",
       "      <td>Lech Poznań</td>\n",
       "      <td>19177</td>\n",
       "      <td>24</td>\n",
       "    </tr>\n",
       "    <tr>\n",
       "      <th>...</th>\n",
       "      <td>...</td>\n",
       "      <td>...</td>\n",
       "      <td>...</td>\n",
       "      <td>...</td>\n",
       "      <td>...</td>\n",
       "      <td>...</td>\n",
       "      <td>...</td>\n",
       "      <td>...</td>\n",
       "    </tr>\n",
       "    <tr>\n",
       "      <th>100</th>\n",
       "      <td>2023/2024</td>\n",
       "      <td>sobota</td>\n",
       "      <td>15:00</td>\n",
       "      <td>11</td>\n",
       "      <td>1</td>\n",
       "      <td>Ruch Chorzów</td>\n",
       "      <td>11098</td>\n",
       "      <td>22</td>\n",
       "    </tr>\n",
       "    <tr>\n",
       "      <th>101</th>\n",
       "      <td>2023/2024</td>\n",
       "      <td>piątek</td>\n",
       "      <td>20:30</td>\n",
       "      <td>-2</td>\n",
       "      <td>3</td>\n",
       "      <td>Śląsk Wrocław</td>\n",
       "      <td>13840</td>\n",
       "      <td>13</td>\n",
       "    </tr>\n",
       "    <tr>\n",
       "      <th>102</th>\n",
       "      <td>2023/2024</td>\n",
       "      <td>sobota</td>\n",
       "      <td>15:00</td>\n",
       "      <td>22</td>\n",
       "      <td>1</td>\n",
       "      <td>ŁKS Łódź</td>\n",
       "      <td>15007</td>\n",
       "      <td>25</td>\n",
       "    </tr>\n",
       "    <tr>\n",
       "      <th>103</th>\n",
       "      <td>2023/2024</td>\n",
       "      <td>niedziela</td>\n",
       "      <td>15:00</td>\n",
       "      <td>16</td>\n",
       "      <td>1</td>\n",
       "      <td>Cracovia</td>\n",
       "      <td>18184</td>\n",
       "      <td>20</td>\n",
       "    </tr>\n",
       "    <tr>\n",
       "      <th>104</th>\n",
       "      <td>2023/2024</td>\n",
       "      <td>piątek</td>\n",
       "      <td>20:30</td>\n",
       "      <td>9</td>\n",
       "      <td>1</td>\n",
       "      <td>Pogoń Szczecin</td>\n",
       "      <td>19474</td>\n",
       "      <td>12</td>\n",
       "    </tr>\n",
       "  </tbody>\n",
       "</table>\n",
       "<p>105 rows × 8 columns</p>\n",
       "</div>"
      ],
      "text/plain": [
       "         sezon dzien_tygodnia godzina  temperatura  pozycja_przed_meczem  \\\n",
       "0    2015/2016      niedziela   15:30           16                    11   \n",
       "1    2015/2016      niedziela   15:30           26                     7   \n",
       "2    2015/2016      niedziela   15:30           28                     7   \n",
       "3    2015/2016      niedziela   18:00           26                     4   \n",
       "4    2015/2016      niedziela   18:00           15                    10   \n",
       "..         ...            ...     ...          ...                   ...   \n",
       "100  2023/2024         sobota   15:00           11                     1   \n",
       "101  2023/2024         piątek   20:30           -2                     3   \n",
       "102  2023/2024         sobota   15:00           22                     1   \n",
       "103  2023/2024      niedziela   15:00           16                     1   \n",
       "104  2023/2024         piątek   20:30            9                     1   \n",
       "\n",
       "              rywal  frekwencja  kod_rywala  \n",
       "0         Nieciecza       10653          15  \n",
       "1    Zagłębie Lubin       11055           4  \n",
       "2      Ruch Chorzów       12758          22  \n",
       "3    Legia Warszawa       22172          26  \n",
       "4       Lech Poznań       19177          24  \n",
       "..              ...         ...         ...  \n",
       "100    Ruch Chorzów       11098          22  \n",
       "101   Śląsk Wrocław       13840          13  \n",
       "102        ŁKS Łódź       15007          25  \n",
       "103        Cracovia       18184          20  \n",
       "104  Pogoń Szczecin       19474          12  \n",
       "\n",
       "[105 rows x 8 columns]"
      ]
     },
     "execution_count": 20,
     "metadata": {},
     "output_type": "execute_result"
    }
   ],
   "source": [
    "df"
   ]
  },
  {
   "cell_type": "markdown",
   "id": "fbdf8c5c",
   "metadata": {},
   "source": [
    "Obliczyłem macierz korelacji"
   ]
  },
  {
   "cell_type": "code",
   "execution_count": 21,
   "id": "19c7a4f6",
   "metadata": {},
   "outputs": [],
   "source": [
    "macierz_korelacji = df.corr()"
   ]
  },
  {
   "cell_type": "code",
   "execution_count": 22,
   "id": "8e8b8a27",
   "metadata": {
    "scrolled": false
   },
   "outputs": [
    {
     "name": "stdout",
     "output_type": "stream",
     "text": [
      "                      temperatura  pozycja_przed_meczem  frekwencja  \\\n",
      "temperatura              1.000000              0.056218    0.511215   \n",
      "pozycja_przed_meczem     0.056218              1.000000   -0.332025   \n",
      "frekwencja               0.511215             -0.332025    1.000000   \n",
      "kod_rywala               0.197674             -0.244795    0.624442   \n",
      "\n",
      "                      kod_rywala  \n",
      "temperatura             0.197674  \n",
      "pozycja_przed_meczem   -0.244795  \n",
      "frekwencja              0.624442  \n",
      "kod_rywala              1.000000  \n"
     ]
    }
   ],
   "source": [
    "print(macierz_korelacji)"
   ]
  },
  {
   "cell_type": "markdown",
   "id": "4cb88629",
   "metadata": {},
   "source": [
    "Wizualizacja relacji między temperaturą a frekwencją na meczach"
   ]
  },
  {
   "cell_type": "code",
   "execution_count": 24,
   "id": "647c2c37",
   "metadata": {
    "scrolled": false
   },
   "outputs": [
    {
     "data": {
      "application/vnd.plotly.v1+json": {
       "config": {
        "plotlyServerURL": "https://plot.ly"
       },
       "data": [
        {
         "customdata": [
          [
           11,
           "Nieciecza"
          ],
          [
           7,
           "Zagłębie Lubin"
          ],
          [
           7,
           "Ruch Chorzów"
          ],
          [
           4,
           "Legia Warszawa"
          ],
          [
           10,
           "Lech Poznań"
          ],
          [
           7,
           "Lechia Gdańsk"
          ],
          [
           11,
           "Wisła Kraków"
          ],
          [
           13,
           "Piast Gliwice"
          ],
          [
           13,
           "Korona Kielce"
          ],
          [
           11,
           "Górnik Zabrze"
          ],
          [
           9,
           "Cracovia"
          ],
          [
           11,
           "Śląsk Wrocław"
          ],
          [
           6,
           "Pogoń Szczecin"
          ],
          [
           10,
           "Górnik Łęczna"
          ],
          [
           8,
           "Podbeskidzie"
          ],
          [
           12,
           "Górnik Łęczna"
          ],
          [
           11,
           "Górnik Zabrze"
          ],
          [
           12,
           "Podbeskidzie"
          ],
          [
           12,
           "Nieciecza"
          ]
         ],
         "hovertemplate": "Sezon=2015/2016<br>Temperatura (°C)=%{x}<br>Frekwencja=%{y}<br>pozycja_przed_meczem=%{customdata[0]}<br>rywal=%{customdata[1]}<extra></extra>",
         "legendgroup": "2015/2016",
         "marker": {
          "color": "#636efa",
          "symbol": "circle"
         },
         "mode": "markers",
         "name": "2015/2016",
         "orientation": "v",
         "showlegend": true,
         "type": "scatter",
         "x": [
          16,
          26,
          28,
          26,
          15,
          9,
          10,
          3,
          4,
          7,
          9,
          2,
          0,
          4,
          18,
          18,
          10,
          14,
          16
         ],
         "xaxis": "x",
         "y": [
          10653,
          11055,
          12758,
          22172,
          19177,
          11195,
          10120,
          8523,
          7120,
          6734,
          7630,
          8100,
          6887,
          8516,
          10132,
          8123,
          8573,
          7453,
          9387
         ],
         "yaxis": "y"
        },
        {
         "customdata": [
          [
           7,
           "Ruch Chorzów"
          ],
          [
           2,
           "Arka Gdynia"
          ],
          [
           2,
           "Lechia Gdańsk"
          ],
          [
           1,
           "Wisła Kraków"
          ],
          [
           1,
           "Pogoń Szczecin"
          ],
          [
           2,
           "Zagłębie Lubin"
          ],
          [
           2,
           "Piast Gliwice"
          ],
          [
           1,
           "Legia Warszawa"
          ],
          [
           2,
           "Lech Poznań"
          ],
          [
           1,
           "Wisła Płock"
          ],
          [
           2,
           "Górnik Łęczna"
          ],
          [
           2,
           "Śląsk Wrocław"
          ],
          [
           2,
           "Korona Kielce"
          ],
          [
           1,
           "Nieciecza"
          ],
          [
           1,
           "Cracovia"
          ],
          [
           1,
           "Pogoń Szczecin"
          ],
          [
           1,
           "Wisła Kraków"
          ],
          [
           2,
           "Legia Warszawa"
          ],
          [
           2,
           "Lech Poznań"
          ]
         ],
         "hovertemplate": "Sezon=2016/2017<br>Temperatura (°C)=%{x}<br>Frekwencja=%{y}<br>pozycja_przed_meczem=%{customdata[0]}<br>rywal=%{customdata[1]}<extra></extra>",
         "legendgroup": "2016/2017",
         "marker": {
          "color": "#EF553B",
          "symbol": "circle"
         },
         "mode": "markers",
         "name": "2016/2017",
         "orientation": "v",
         "showlegend": true,
         "type": "scatter",
         "x": [
          24,
          30,
          26,
          26,
          18,
          7,
          4,
          7,
          -7,
          -2,
          2,
          14,
          3,
          22,
          7,
          9,
          18,
          23,
          23
         ],
         "xaxis": "x",
         "y": [
          13240,
          16471,
          17100,
          18646,
          16850,
          10006,
          8260,
          18765,
          10000,
          8127,
          5531,
          10736,
          9554,
          14392,
          10000,
          12100,
          15117,
          22394,
          19084
         ],
         "yaxis": "y"
        },
        {
         "customdata": [
          [
           5,
           "Górnik Zabrze"
          ],
          [
           1,
           "Sandecja"
          ],
          [
           2,
           "Śląsk Wrocław"
          ],
          [
           2,
           "Piast Gliwice"
          ],
          [
           6,
           "Legia Warszawa"
          ],
          [
           4,
           "Lech Poznań"
          ],
          [
           7,
           "Zagłębie Lubin"
          ],
          [
           3,
           "Nieciecza"
          ],
          [
           6,
           "Pogoń Szczecin"
          ],
          [
           3,
           "Korona Kielce"
          ],
          [
           2,
           "Cracovia"
          ],
          [
           2,
           "Lechia Gdańsk"
          ],
          [
           1,
           "Wisła Kraków"
          ],
          [
           2,
           "Arka Gdynia"
          ],
          [
           1,
           "Wisła Płock"
          ],
          [
           2,
           "Górnik Zabrze"
          ],
          [
           2,
           "Wisła Kraków"
          ],
          [
           3,
           "Legia Warszawa"
          ],
          [
           2,
           "Wisła Płock"
          ]
         ],
         "hovertemplate": "Sezon=2017/2018<br>Temperatura (°C)=%{x}<br>Frekwencja=%{y}<br>pozycja_przed_meczem=%{customdata[0]}<br>rywal=%{customdata[1]}<extra></extra>",
         "legendgroup": "2017/2018",
         "marker": {
          "color": "#00cc96",
          "symbol": "circle"
         },
         "mode": "markers",
         "name": "2017/2018",
         "orientation": "v",
         "showlegend": true,
         "type": "scatter",
         "x": [
          23,
          23,
          17,
          21,
          16,
          9,
          5,
          4,
          1,
          8,
          1,
          -11,
          0,
          -5,
          12,
          17,
          24,
          18,
          19
         ],
         "xaxis": "x",
         "y": [
          11236,
          11399,
          10437,
          10658,
          17894,
          12156,
          8375,
          6973,
          4111,
          4774,
          9090,
          5942,
          7414,
          8787,
          14094,
          11098,
          15534,
          18763,
          20086
         ],
         "yaxis": "y"
        },
        {
         "customdata": [
          [
           5,
           "Wisła Kraków"
          ],
          [
           2,
           "Piast Gliwice"
          ],
          [
           2,
           "Miedź Legnica"
          ],
          [
           2,
           "Cracovia"
          ],
          [
           1,
           "Śląsk Wrocław"
          ],
          [
           3,
           "Pogoń Szczecin"
          ],
          [
           1,
           "Legia Warszawa"
          ],
          [
           2,
           "Lech Poznań"
          ],
          [
           3,
           "Arka Gdynia"
          ],
          [
           3,
           "Zagłębie Lubin"
          ],
          [
           3,
           "Wisła Płock"
          ],
          [
           3,
           "Górnik Zabrze"
          ],
          [
           4,
           "Korona Kielce"
          ],
          [
           5,
           "Z. Sosnowiec"
          ],
          [
           6,
           "Lech Poznań"
          ],
          [
           4,
           "Pogoń Szczecin"
          ],
          [
           4,
           "Legia Warszawa"
          ]
         ],
         "hovertemplate": "Sezon=2018/2019<br>Temperatura (°C)=%{x}<br>Frekwencja=%{y}<br>pozycja_przed_meczem=%{customdata[0]}<br>rywal=%{customdata[1]}<extra></extra>",
         "legendgroup": "2018/2019",
         "marker": {
          "color": "#ab63fa",
          "symbol": "circle"
         },
         "mode": "markers",
         "name": "2018/2019",
         "orientation": "v",
         "showlegend": true,
         "type": "scatter",
         "x": [
          26,
          25,
          18,
          14,
          11,
          10,
          5,
          5,
          -7,
          0,
          5,
          -3,
          5,
          16,
          16,
          11,
          14
         ],
         "xaxis": "x",
         "y": [
          12373,
          10664,
          11123,
          9510,
          8396,
          7622,
          16862,
          12988,
          5012,
          5163,
          9066,
          7162,
          7660,
          6541,
          8412,
          6348,
          13573
         ],
         "yaxis": "y"
        },
        {
         "customdata": [
          [
           4,
           "Widzew Łódź"
          ],
          [
           13,
           "Radomiak"
          ],
          [
           15,
           "Miedź Legnica"
          ],
          [
           12,
           "Stal Mielec"
          ],
          [
           10,
           "Korona Kielce"
          ],
          [
           7,
           "Wisła Płock"
          ],
          [
           11,
           "Legia Warszawa"
          ],
          [
           13,
           "Lech Poznań"
          ],
          [
           14,
           "Pogoń Szczecin"
          ],
          [
           12,
           "Raków"
          ],
          [
           14,
           "Górnik Zabrze"
          ],
          [
           13,
           "Zagłębie Lubin"
          ],
          [
           14,
           "Lechia Gdańsk"
          ],
          [
           9,
           "Warta Poznań"
          ],
          [
           8,
           "Śląsk Wrocław"
          ],
          [
           12,
           "Cracovia"
          ]
         ],
         "hovertemplate": "Sezon=2022/2023<br>Temperatura (°C)=%{x}<br>Frekwencja=%{y}<br>pozycja_przed_meczem=%{customdata[0]}<br>rywal=%{customdata[1]}<extra></extra>",
         "legendgroup": "2022/2023",
         "marker": {
          "color": "#FFA15A",
          "symbol": "circle"
         },
         "mode": "markers",
         "name": "2022/2023",
         "orientation": "v",
         "showlegend": true,
         "type": "scatter",
         "x": [
          23,
          16,
          28,
          11,
          12,
          6,
          13,
          9,
          2,
          3,
          0,
          10,
          16,
          15,
          12,
          22
         ],
         "xaxis": "x",
         "y": [
          11781,
          9113,
          8407,
          6519,
          8333,
          7731,
          16635,
          10167,
          5450,
          6547,
          5673,
          6658,
          8985,
          8481,
          9012,
          16251
         ],
         "yaxis": "y"
        },
        {
         "customdata": [
          [
           18,
           "P. Niepołomice"
          ],
          [
           10,
           "Widzew Łódź"
          ],
          [
           4,
           "Górnik Zabrze"
          ],
          [
           3,
           "Radomiak"
          ],
          [
           5,
           "Legia Warszawa"
          ],
          [
           2,
           "Zagłębie Lubin"
          ],
          [
           2,
           "Stal Mielec"
          ],
          [
           3,
           "Piast Gliwice"
          ],
          [
           2,
           "Raków"
          ],
          [
           1,
           "Lech Poznań"
          ],
          [
           1,
           "Ruch Chorzów"
          ],
          [
           3,
           "Śląsk Wrocław"
          ],
          [
           1,
           "ŁKS Łódź"
          ],
          [
           1,
           "Cracovia"
          ],
          [
           1,
           "Pogoń Szczecin"
          ]
         ],
         "hovertemplate": "Sezon=2023/2024<br>Temperatura (°C)=%{x}<br>Frekwencja=%{y}<br>pozycja_przed_meczem=%{customdata[0]}<br>rywal=%{customdata[1]}<extra></extra>",
         "legendgroup": "2023/2024",
         "marker": {
          "color": "#19d3f3",
          "symbol": "circle"
         },
         "mode": "markers",
         "name": "2023/2024",
         "orientation": "v",
         "showlegend": true,
         "type": "scatter",
         "x": [
          23,
          24,
          27,
          22,
          10,
          5,
          12,
          1,
          -3,
          7,
          11,
          -2,
          22,
          16,
          9
         ],
         "xaxis": "x",
         "y": [
          8478,
          11547,
          11487,
          12091,
          17892,
          8049,
          8921,
          8466,
          10109,
          17141,
          11098,
          13840,
          15007,
          18184,
          19474
         ],
         "yaxis": "y"
        }
       ],
       "layout": {
        "legend": {
         "title": {
          "text": "Sezon"
         },
         "tracegroupgap": 0
        },
        "template": {
         "data": {
          "bar": [
           {
            "error_x": {
             "color": "#2a3f5f"
            },
            "error_y": {
             "color": "#2a3f5f"
            },
            "marker": {
             "line": {
              "color": "#E5ECF6",
              "width": 0.5
             },
             "pattern": {
              "fillmode": "overlay",
              "size": 10,
              "solidity": 0.2
             }
            },
            "type": "bar"
           }
          ],
          "barpolar": [
           {
            "marker": {
             "line": {
              "color": "#E5ECF6",
              "width": 0.5
             },
             "pattern": {
              "fillmode": "overlay",
              "size": 10,
              "solidity": 0.2
             }
            },
            "type": "barpolar"
           }
          ],
          "carpet": [
           {
            "aaxis": {
             "endlinecolor": "#2a3f5f",
             "gridcolor": "white",
             "linecolor": "white",
             "minorgridcolor": "white",
             "startlinecolor": "#2a3f5f"
            },
            "baxis": {
             "endlinecolor": "#2a3f5f",
             "gridcolor": "white",
             "linecolor": "white",
             "minorgridcolor": "white",
             "startlinecolor": "#2a3f5f"
            },
            "type": "carpet"
           }
          ],
          "choropleth": [
           {
            "colorbar": {
             "outlinewidth": 0,
             "ticks": ""
            },
            "type": "choropleth"
           }
          ],
          "contour": [
           {
            "colorbar": {
             "outlinewidth": 0,
             "ticks": ""
            },
            "colorscale": [
             [
              0,
              "#0d0887"
             ],
             [
              0.1111111111111111,
              "#46039f"
             ],
             [
              0.2222222222222222,
              "#7201a8"
             ],
             [
              0.3333333333333333,
              "#9c179e"
             ],
             [
              0.4444444444444444,
              "#bd3786"
             ],
             [
              0.5555555555555556,
              "#d8576b"
             ],
             [
              0.6666666666666666,
              "#ed7953"
             ],
             [
              0.7777777777777778,
              "#fb9f3a"
             ],
             [
              0.8888888888888888,
              "#fdca26"
             ],
             [
              1,
              "#f0f921"
             ]
            ],
            "type": "contour"
           }
          ],
          "contourcarpet": [
           {
            "colorbar": {
             "outlinewidth": 0,
             "ticks": ""
            },
            "type": "contourcarpet"
           }
          ],
          "heatmap": [
           {
            "colorbar": {
             "outlinewidth": 0,
             "ticks": ""
            },
            "colorscale": [
             [
              0,
              "#0d0887"
             ],
             [
              0.1111111111111111,
              "#46039f"
             ],
             [
              0.2222222222222222,
              "#7201a8"
             ],
             [
              0.3333333333333333,
              "#9c179e"
             ],
             [
              0.4444444444444444,
              "#bd3786"
             ],
             [
              0.5555555555555556,
              "#d8576b"
             ],
             [
              0.6666666666666666,
              "#ed7953"
             ],
             [
              0.7777777777777778,
              "#fb9f3a"
             ],
             [
              0.8888888888888888,
              "#fdca26"
             ],
             [
              1,
              "#f0f921"
             ]
            ],
            "type": "heatmap"
           }
          ],
          "heatmapgl": [
           {
            "colorbar": {
             "outlinewidth": 0,
             "ticks": ""
            },
            "colorscale": [
             [
              0,
              "#0d0887"
             ],
             [
              0.1111111111111111,
              "#46039f"
             ],
             [
              0.2222222222222222,
              "#7201a8"
             ],
             [
              0.3333333333333333,
              "#9c179e"
             ],
             [
              0.4444444444444444,
              "#bd3786"
             ],
             [
              0.5555555555555556,
              "#d8576b"
             ],
             [
              0.6666666666666666,
              "#ed7953"
             ],
             [
              0.7777777777777778,
              "#fb9f3a"
             ],
             [
              0.8888888888888888,
              "#fdca26"
             ],
             [
              1,
              "#f0f921"
             ]
            ],
            "type": "heatmapgl"
           }
          ],
          "histogram": [
           {
            "marker": {
             "pattern": {
              "fillmode": "overlay",
              "size": 10,
              "solidity": 0.2
             }
            },
            "type": "histogram"
           }
          ],
          "histogram2d": [
           {
            "colorbar": {
             "outlinewidth": 0,
             "ticks": ""
            },
            "colorscale": [
             [
              0,
              "#0d0887"
             ],
             [
              0.1111111111111111,
              "#46039f"
             ],
             [
              0.2222222222222222,
              "#7201a8"
             ],
             [
              0.3333333333333333,
              "#9c179e"
             ],
             [
              0.4444444444444444,
              "#bd3786"
             ],
             [
              0.5555555555555556,
              "#d8576b"
             ],
             [
              0.6666666666666666,
              "#ed7953"
             ],
             [
              0.7777777777777778,
              "#fb9f3a"
             ],
             [
              0.8888888888888888,
              "#fdca26"
             ],
             [
              1,
              "#f0f921"
             ]
            ],
            "type": "histogram2d"
           }
          ],
          "histogram2dcontour": [
           {
            "colorbar": {
             "outlinewidth": 0,
             "ticks": ""
            },
            "colorscale": [
             [
              0,
              "#0d0887"
             ],
             [
              0.1111111111111111,
              "#46039f"
             ],
             [
              0.2222222222222222,
              "#7201a8"
             ],
             [
              0.3333333333333333,
              "#9c179e"
             ],
             [
              0.4444444444444444,
              "#bd3786"
             ],
             [
              0.5555555555555556,
              "#d8576b"
             ],
             [
              0.6666666666666666,
              "#ed7953"
             ],
             [
              0.7777777777777778,
              "#fb9f3a"
             ],
             [
              0.8888888888888888,
              "#fdca26"
             ],
             [
              1,
              "#f0f921"
             ]
            ],
            "type": "histogram2dcontour"
           }
          ],
          "mesh3d": [
           {
            "colorbar": {
             "outlinewidth": 0,
             "ticks": ""
            },
            "type": "mesh3d"
           }
          ],
          "parcoords": [
           {
            "line": {
             "colorbar": {
              "outlinewidth": 0,
              "ticks": ""
             }
            },
            "type": "parcoords"
           }
          ],
          "pie": [
           {
            "automargin": true,
            "type": "pie"
           }
          ],
          "scatter": [
           {
            "fillpattern": {
             "fillmode": "overlay",
             "size": 10,
             "solidity": 0.2
            },
            "type": "scatter"
           }
          ],
          "scatter3d": [
           {
            "line": {
             "colorbar": {
              "outlinewidth": 0,
              "ticks": ""
             }
            },
            "marker": {
             "colorbar": {
              "outlinewidth": 0,
              "ticks": ""
             }
            },
            "type": "scatter3d"
           }
          ],
          "scattercarpet": [
           {
            "marker": {
             "colorbar": {
              "outlinewidth": 0,
              "ticks": ""
             }
            },
            "type": "scattercarpet"
           }
          ],
          "scattergeo": [
           {
            "marker": {
             "colorbar": {
              "outlinewidth": 0,
              "ticks": ""
             }
            },
            "type": "scattergeo"
           }
          ],
          "scattergl": [
           {
            "marker": {
             "colorbar": {
              "outlinewidth": 0,
              "ticks": ""
             }
            },
            "type": "scattergl"
           }
          ],
          "scattermapbox": [
           {
            "marker": {
             "colorbar": {
              "outlinewidth": 0,
              "ticks": ""
             }
            },
            "type": "scattermapbox"
           }
          ],
          "scatterpolar": [
           {
            "marker": {
             "colorbar": {
              "outlinewidth": 0,
              "ticks": ""
             }
            },
            "type": "scatterpolar"
           }
          ],
          "scatterpolargl": [
           {
            "marker": {
             "colorbar": {
              "outlinewidth": 0,
              "ticks": ""
             }
            },
            "type": "scatterpolargl"
           }
          ],
          "scatterternary": [
           {
            "marker": {
             "colorbar": {
              "outlinewidth": 0,
              "ticks": ""
             }
            },
            "type": "scatterternary"
           }
          ],
          "surface": [
           {
            "colorbar": {
             "outlinewidth": 0,
             "ticks": ""
            },
            "colorscale": [
             [
              0,
              "#0d0887"
             ],
             [
              0.1111111111111111,
              "#46039f"
             ],
             [
              0.2222222222222222,
              "#7201a8"
             ],
             [
              0.3333333333333333,
              "#9c179e"
             ],
             [
              0.4444444444444444,
              "#bd3786"
             ],
             [
              0.5555555555555556,
              "#d8576b"
             ],
             [
              0.6666666666666666,
              "#ed7953"
             ],
             [
              0.7777777777777778,
              "#fb9f3a"
             ],
             [
              0.8888888888888888,
              "#fdca26"
             ],
             [
              1,
              "#f0f921"
             ]
            ],
            "type": "surface"
           }
          ],
          "table": [
           {
            "cells": {
             "fill": {
              "color": "#EBF0F8"
             },
             "line": {
              "color": "white"
             }
            },
            "header": {
             "fill": {
              "color": "#C8D4E3"
             },
             "line": {
              "color": "white"
             }
            },
            "type": "table"
           }
          ]
         },
         "layout": {
          "annotationdefaults": {
           "arrowcolor": "#2a3f5f",
           "arrowhead": 0,
           "arrowwidth": 1
          },
          "autotypenumbers": "strict",
          "coloraxis": {
           "colorbar": {
            "outlinewidth": 0,
            "ticks": ""
           }
          },
          "colorscale": {
           "diverging": [
            [
             0,
             "#8e0152"
            ],
            [
             0.1,
             "#c51b7d"
            ],
            [
             0.2,
             "#de77ae"
            ],
            [
             0.3,
             "#f1b6da"
            ],
            [
             0.4,
             "#fde0ef"
            ],
            [
             0.5,
             "#f7f7f7"
            ],
            [
             0.6,
             "#e6f5d0"
            ],
            [
             0.7,
             "#b8e186"
            ],
            [
             0.8,
             "#7fbc41"
            ],
            [
             0.9,
             "#4d9221"
            ],
            [
             1,
             "#276419"
            ]
           ],
           "sequential": [
            [
             0,
             "#0d0887"
            ],
            [
             0.1111111111111111,
             "#46039f"
            ],
            [
             0.2222222222222222,
             "#7201a8"
            ],
            [
             0.3333333333333333,
             "#9c179e"
            ],
            [
             0.4444444444444444,
             "#bd3786"
            ],
            [
             0.5555555555555556,
             "#d8576b"
            ],
            [
             0.6666666666666666,
             "#ed7953"
            ],
            [
             0.7777777777777778,
             "#fb9f3a"
            ],
            [
             0.8888888888888888,
             "#fdca26"
            ],
            [
             1,
             "#f0f921"
            ]
           ],
           "sequentialminus": [
            [
             0,
             "#0d0887"
            ],
            [
             0.1111111111111111,
             "#46039f"
            ],
            [
             0.2222222222222222,
             "#7201a8"
            ],
            [
             0.3333333333333333,
             "#9c179e"
            ],
            [
             0.4444444444444444,
             "#bd3786"
            ],
            [
             0.5555555555555556,
             "#d8576b"
            ],
            [
             0.6666666666666666,
             "#ed7953"
            ],
            [
             0.7777777777777778,
             "#fb9f3a"
            ],
            [
             0.8888888888888888,
             "#fdca26"
            ],
            [
             1,
             "#f0f921"
            ]
           ]
          },
          "colorway": [
           "#636efa",
           "#EF553B",
           "#00cc96",
           "#ab63fa",
           "#FFA15A",
           "#19d3f3",
           "#FF6692",
           "#B6E880",
           "#FF97FF",
           "#FECB52"
          ],
          "font": {
           "color": "#2a3f5f"
          },
          "geo": {
           "bgcolor": "white",
           "lakecolor": "white",
           "landcolor": "#E5ECF6",
           "showlakes": true,
           "showland": true,
           "subunitcolor": "white"
          },
          "hoverlabel": {
           "align": "left"
          },
          "hovermode": "closest",
          "mapbox": {
           "style": "light"
          },
          "paper_bgcolor": "white",
          "plot_bgcolor": "#E5ECF6",
          "polar": {
           "angularaxis": {
            "gridcolor": "white",
            "linecolor": "white",
            "ticks": ""
           },
           "bgcolor": "#E5ECF6",
           "radialaxis": {
            "gridcolor": "white",
            "linecolor": "white",
            "ticks": ""
           }
          },
          "scene": {
           "xaxis": {
            "backgroundcolor": "#E5ECF6",
            "gridcolor": "white",
            "gridwidth": 2,
            "linecolor": "white",
            "showbackground": true,
            "ticks": "",
            "zerolinecolor": "white"
           },
           "yaxis": {
            "backgroundcolor": "#E5ECF6",
            "gridcolor": "white",
            "gridwidth": 2,
            "linecolor": "white",
            "showbackground": true,
            "ticks": "",
            "zerolinecolor": "white"
           },
           "zaxis": {
            "backgroundcolor": "#E5ECF6",
            "gridcolor": "white",
            "gridwidth": 2,
            "linecolor": "white",
            "showbackground": true,
            "ticks": "",
            "zerolinecolor": "white"
           }
          },
          "shapedefaults": {
           "line": {
            "color": "#2a3f5f"
           }
          },
          "ternary": {
           "aaxis": {
            "gridcolor": "white",
            "linecolor": "white",
            "ticks": ""
           },
           "baxis": {
            "gridcolor": "white",
            "linecolor": "white",
            "ticks": ""
           },
           "bgcolor": "#E5ECF6",
           "caxis": {
            "gridcolor": "white",
            "linecolor": "white",
            "ticks": ""
           }
          },
          "title": {
           "x": 0.05
          },
          "xaxis": {
           "automargin": true,
           "gridcolor": "white",
           "linecolor": "white",
           "ticks": "",
           "title": {
            "standoff": 15
           },
           "zerolinecolor": "white",
           "zerolinewidth": 2
          },
          "yaxis": {
           "automargin": true,
           "gridcolor": "white",
           "linecolor": "white",
           "ticks": "",
           "title": {
            "standoff": 15
           },
           "zerolinecolor": "white",
           "zerolinewidth": 2
          }
         }
        },
        "title": {
         "text": "Temperatura a frekwencja na meczach"
        },
        "xaxis": {
         "anchor": "y",
         "domain": [
          0,
          1
         ],
         "title": {
          "text": "Temperatura (°C)"
         }
        },
        "yaxis": {
         "anchor": "x",
         "domain": [
          0,
          1
         ],
         "title": {
          "text": "Frekwencja"
         }
        }
       }
      },
      "text/html": [
       "<div>                            <div id=\"b415c5f3-a91a-491f-958c-d29b030f1205\" class=\"plotly-graph-div\" style=\"height:525px; width:100%;\"></div>            <script type=\"text/javascript\">                require([\"plotly\"], function(Plotly) {                    window.PLOTLYENV=window.PLOTLYENV || {};                                    if (document.getElementById(\"b415c5f3-a91a-491f-958c-d29b030f1205\")) {                    Plotly.newPlot(                        \"b415c5f3-a91a-491f-958c-d29b030f1205\",                        [{\"customdata\":[[11,\"Nieciecza\"],[7,\"Zag\\u0142\\u0119bie Lubin\"],[7,\"Ruch Chorz\\u00f3w\"],[4,\"Legia Warszawa\"],[10,\"Lech Pozna\\u0144\"],[7,\"Lechia Gda\\u0144sk\"],[11,\"Wis\\u0142a Krak\\u00f3w\"],[13,\"Piast Gliwice\"],[13,\"Korona Kielce\"],[11,\"G\\u00f3rnik Zabrze\"],[9,\"Cracovia\"],[11,\"\\u015al\\u0105sk Wroc\\u0142aw\"],[6,\"Pogo\\u0144 Szczecin\"],[10,\"G\\u00f3rnik \\u0141\\u0119czna\"],[8,\"Podbeskidzie\"],[12,\"G\\u00f3rnik \\u0141\\u0119czna\"],[11,\"G\\u00f3rnik Zabrze\"],[12,\"Podbeskidzie\"],[12,\"Nieciecza\"]],\"hovertemplate\":\"Sezon=2015\\u002f2016\\u003cbr\\u003eTemperatura (\\u00b0C)=%{x}\\u003cbr\\u003eFrekwencja=%{y}\\u003cbr\\u003epozycja_przed_meczem=%{customdata[0]}\\u003cbr\\u003erywal=%{customdata[1]}\\u003cextra\\u003e\\u003c\\u002fextra\\u003e\",\"legendgroup\":\"2015\\u002f2016\",\"marker\":{\"color\":\"#636efa\",\"symbol\":\"circle\"},\"mode\":\"markers\",\"name\":\"2015\\u002f2016\",\"orientation\":\"v\",\"showlegend\":true,\"x\":[16,26,28,26,15,9,10,3,4,7,9,2,0,4,18,18,10,14,16],\"xaxis\":\"x\",\"y\":[10653,11055,12758,22172,19177,11195,10120,8523,7120,6734,7630,8100,6887,8516,10132,8123,8573,7453,9387],\"yaxis\":\"y\",\"type\":\"scatter\"},{\"customdata\":[[7,\"Ruch Chorz\\u00f3w\"],[2,\"Arka Gdynia\"],[2,\"Lechia Gda\\u0144sk\"],[1,\"Wis\\u0142a Krak\\u00f3w\"],[1,\"Pogo\\u0144 Szczecin\"],[2,\"Zag\\u0142\\u0119bie Lubin\"],[2,\"Piast Gliwice\"],[1,\"Legia Warszawa\"],[2,\"Lech Pozna\\u0144\"],[1,\"Wis\\u0142a P\\u0142ock\"],[2,\"G\\u00f3rnik \\u0141\\u0119czna\"],[2,\"\\u015al\\u0105sk Wroc\\u0142aw\"],[2,\"Korona Kielce\"],[1,\"Nieciecza\"],[1,\"Cracovia\"],[1,\"Pogo\\u0144 Szczecin\"],[1,\"Wis\\u0142a Krak\\u00f3w\"],[2,\"Legia Warszawa\"],[2,\"Lech Pozna\\u0144\"]],\"hovertemplate\":\"Sezon=2016\\u002f2017\\u003cbr\\u003eTemperatura (\\u00b0C)=%{x}\\u003cbr\\u003eFrekwencja=%{y}\\u003cbr\\u003epozycja_przed_meczem=%{customdata[0]}\\u003cbr\\u003erywal=%{customdata[1]}\\u003cextra\\u003e\\u003c\\u002fextra\\u003e\",\"legendgroup\":\"2016\\u002f2017\",\"marker\":{\"color\":\"#EF553B\",\"symbol\":\"circle\"},\"mode\":\"markers\",\"name\":\"2016\\u002f2017\",\"orientation\":\"v\",\"showlegend\":true,\"x\":[24,30,26,26,18,7,4,7,-7,-2,2,14,3,22,7,9,18,23,23],\"xaxis\":\"x\",\"y\":[13240,16471,17100,18646,16850,10006,8260,18765,10000,8127,5531,10736,9554,14392,10000,12100,15117,22394,19084],\"yaxis\":\"y\",\"type\":\"scatter\"},{\"customdata\":[[5,\"G\\u00f3rnik Zabrze\"],[1,\"Sandecja\"],[2,\"\\u015al\\u0105sk Wroc\\u0142aw\"],[2,\"Piast Gliwice\"],[6,\"Legia Warszawa\"],[4,\"Lech Pozna\\u0144\"],[7,\"Zag\\u0142\\u0119bie Lubin\"],[3,\"Nieciecza\"],[6,\"Pogo\\u0144 Szczecin\"],[3,\"Korona Kielce\"],[2,\"Cracovia\"],[2,\"Lechia Gda\\u0144sk\"],[1,\"Wis\\u0142a Krak\\u00f3w\"],[2,\"Arka Gdynia\"],[1,\"Wis\\u0142a P\\u0142ock\"],[2,\"G\\u00f3rnik Zabrze\"],[2,\"Wis\\u0142a Krak\\u00f3w\"],[3,\"Legia Warszawa\"],[2,\"Wis\\u0142a P\\u0142ock\"]],\"hovertemplate\":\"Sezon=2017\\u002f2018\\u003cbr\\u003eTemperatura (\\u00b0C)=%{x}\\u003cbr\\u003eFrekwencja=%{y}\\u003cbr\\u003epozycja_przed_meczem=%{customdata[0]}\\u003cbr\\u003erywal=%{customdata[1]}\\u003cextra\\u003e\\u003c\\u002fextra\\u003e\",\"legendgroup\":\"2017\\u002f2018\",\"marker\":{\"color\":\"#00cc96\",\"symbol\":\"circle\"},\"mode\":\"markers\",\"name\":\"2017\\u002f2018\",\"orientation\":\"v\",\"showlegend\":true,\"x\":[23,23,17,21,16,9,5,4,1,8,1,-11,0,-5,12,17,24,18,19],\"xaxis\":\"x\",\"y\":[11236,11399,10437,10658,17894,12156,8375,6973,4111,4774,9090,5942,7414,8787,14094,11098,15534,18763,20086],\"yaxis\":\"y\",\"type\":\"scatter\"},{\"customdata\":[[5,\"Wis\\u0142a Krak\\u00f3w\"],[2,\"Piast Gliwice\"],[2,\"Mied\\u017a Legnica\"],[2,\"Cracovia\"],[1,\"\\u015al\\u0105sk Wroc\\u0142aw\"],[3,\"Pogo\\u0144 Szczecin\"],[1,\"Legia Warszawa\"],[2,\"Lech Pozna\\u0144\"],[3,\"Arka Gdynia\"],[3,\"Zag\\u0142\\u0119bie Lubin\"],[3,\"Wis\\u0142a P\\u0142ock\"],[3,\"G\\u00f3rnik Zabrze\"],[4,\"Korona Kielce\"],[5,\"Z. Sosnowiec\"],[6,\"Lech Pozna\\u0144\"],[4,\"Pogo\\u0144 Szczecin\"],[4,\"Legia Warszawa\"]],\"hovertemplate\":\"Sezon=2018\\u002f2019\\u003cbr\\u003eTemperatura (\\u00b0C)=%{x}\\u003cbr\\u003eFrekwencja=%{y}\\u003cbr\\u003epozycja_przed_meczem=%{customdata[0]}\\u003cbr\\u003erywal=%{customdata[1]}\\u003cextra\\u003e\\u003c\\u002fextra\\u003e\",\"legendgroup\":\"2018\\u002f2019\",\"marker\":{\"color\":\"#ab63fa\",\"symbol\":\"circle\"},\"mode\":\"markers\",\"name\":\"2018\\u002f2019\",\"orientation\":\"v\",\"showlegend\":true,\"x\":[26,25,18,14,11,10,5,5,-7,0,5,-3,5,16,16,11,14],\"xaxis\":\"x\",\"y\":[12373,10664,11123,9510,8396,7622,16862,12988,5012,5163,9066,7162,7660,6541,8412,6348,13573],\"yaxis\":\"y\",\"type\":\"scatter\"},{\"customdata\":[[4,\"Widzew \\u0141\\u00f3d\\u017a\"],[13,\"Radomiak\"],[15,\"Mied\\u017a Legnica\"],[12,\"Stal Mielec\"],[10,\"Korona Kielce\"],[7,\"Wis\\u0142a P\\u0142ock\"],[11,\"Legia Warszawa\"],[13,\"Lech Pozna\\u0144\"],[14,\"Pogo\\u0144 Szczecin\"],[12,\"Rak\\u00f3w\"],[14,\"G\\u00f3rnik Zabrze\"],[13,\"Zag\\u0142\\u0119bie Lubin\"],[14,\"Lechia Gda\\u0144sk\"],[9,\"Warta Pozna\\u0144\"],[8,\"\\u015al\\u0105sk Wroc\\u0142aw\"],[12,\"Cracovia\"]],\"hovertemplate\":\"Sezon=2022\\u002f2023\\u003cbr\\u003eTemperatura (\\u00b0C)=%{x}\\u003cbr\\u003eFrekwencja=%{y}\\u003cbr\\u003epozycja_przed_meczem=%{customdata[0]}\\u003cbr\\u003erywal=%{customdata[1]}\\u003cextra\\u003e\\u003c\\u002fextra\\u003e\",\"legendgroup\":\"2022\\u002f2023\",\"marker\":{\"color\":\"#FFA15A\",\"symbol\":\"circle\"},\"mode\":\"markers\",\"name\":\"2022\\u002f2023\",\"orientation\":\"v\",\"showlegend\":true,\"x\":[23,16,28,11,12,6,13,9,2,3,0,10,16,15,12,22],\"xaxis\":\"x\",\"y\":[11781,9113,8407,6519,8333,7731,16635,10167,5450,6547,5673,6658,8985,8481,9012,16251],\"yaxis\":\"y\",\"type\":\"scatter\"},{\"customdata\":[[18,\"P. Niepo\\u0142omice\"],[10,\"Widzew \\u0141\\u00f3d\\u017a\"],[4,\"G\\u00f3rnik Zabrze\"],[3,\"Radomiak\"],[5,\"Legia Warszawa\"],[2,\"Zag\\u0142\\u0119bie Lubin\"],[2,\"Stal Mielec\"],[3,\"Piast Gliwice\"],[2,\"Rak\\u00f3w\"],[1,\"Lech Pozna\\u0144\"],[1,\"Ruch Chorz\\u00f3w\"],[3,\"\\u015al\\u0105sk Wroc\\u0142aw\"],[1,\"\\u0141KS \\u0141\\u00f3d\\u017a\"],[1,\"Cracovia\"],[1,\"Pogo\\u0144 Szczecin\"]],\"hovertemplate\":\"Sezon=2023\\u002f2024\\u003cbr\\u003eTemperatura (\\u00b0C)=%{x}\\u003cbr\\u003eFrekwencja=%{y}\\u003cbr\\u003epozycja_przed_meczem=%{customdata[0]}\\u003cbr\\u003erywal=%{customdata[1]}\\u003cextra\\u003e\\u003c\\u002fextra\\u003e\",\"legendgroup\":\"2023\\u002f2024\",\"marker\":{\"color\":\"#19d3f3\",\"symbol\":\"circle\"},\"mode\":\"markers\",\"name\":\"2023\\u002f2024\",\"orientation\":\"v\",\"showlegend\":true,\"x\":[23,24,27,22,10,5,12,1,-3,7,11,-2,22,16,9],\"xaxis\":\"x\",\"y\":[8478,11547,11487,12091,17892,8049,8921,8466,10109,17141,11098,13840,15007,18184,19474],\"yaxis\":\"y\",\"type\":\"scatter\"}],                        {\"template\":{\"data\":{\"histogram2dcontour\":[{\"type\":\"histogram2dcontour\",\"colorbar\":{\"outlinewidth\":0,\"ticks\":\"\"},\"colorscale\":[[0.0,\"#0d0887\"],[0.1111111111111111,\"#46039f\"],[0.2222222222222222,\"#7201a8\"],[0.3333333333333333,\"#9c179e\"],[0.4444444444444444,\"#bd3786\"],[0.5555555555555556,\"#d8576b\"],[0.6666666666666666,\"#ed7953\"],[0.7777777777777778,\"#fb9f3a\"],[0.8888888888888888,\"#fdca26\"],[1.0,\"#f0f921\"]]}],\"choropleth\":[{\"type\":\"choropleth\",\"colorbar\":{\"outlinewidth\":0,\"ticks\":\"\"}}],\"histogram2d\":[{\"type\":\"histogram2d\",\"colorbar\":{\"outlinewidth\":0,\"ticks\":\"\"},\"colorscale\":[[0.0,\"#0d0887\"],[0.1111111111111111,\"#46039f\"],[0.2222222222222222,\"#7201a8\"],[0.3333333333333333,\"#9c179e\"],[0.4444444444444444,\"#bd3786\"],[0.5555555555555556,\"#d8576b\"],[0.6666666666666666,\"#ed7953\"],[0.7777777777777778,\"#fb9f3a\"],[0.8888888888888888,\"#fdca26\"],[1.0,\"#f0f921\"]]}],\"heatmap\":[{\"type\":\"heatmap\",\"colorbar\":{\"outlinewidth\":0,\"ticks\":\"\"},\"colorscale\":[[0.0,\"#0d0887\"],[0.1111111111111111,\"#46039f\"],[0.2222222222222222,\"#7201a8\"],[0.3333333333333333,\"#9c179e\"],[0.4444444444444444,\"#bd3786\"],[0.5555555555555556,\"#d8576b\"],[0.6666666666666666,\"#ed7953\"],[0.7777777777777778,\"#fb9f3a\"],[0.8888888888888888,\"#fdca26\"],[1.0,\"#f0f921\"]]}],\"heatmapgl\":[{\"type\":\"heatmapgl\",\"colorbar\":{\"outlinewidth\":0,\"ticks\":\"\"},\"colorscale\":[[0.0,\"#0d0887\"],[0.1111111111111111,\"#46039f\"],[0.2222222222222222,\"#7201a8\"],[0.3333333333333333,\"#9c179e\"],[0.4444444444444444,\"#bd3786\"],[0.5555555555555556,\"#d8576b\"],[0.6666666666666666,\"#ed7953\"],[0.7777777777777778,\"#fb9f3a\"],[0.8888888888888888,\"#fdca26\"],[1.0,\"#f0f921\"]]}],\"contourcarpet\":[{\"type\":\"contourcarpet\",\"colorbar\":{\"outlinewidth\":0,\"ticks\":\"\"}}],\"contour\":[{\"type\":\"contour\",\"colorbar\":{\"outlinewidth\":0,\"ticks\":\"\"},\"colorscale\":[[0.0,\"#0d0887\"],[0.1111111111111111,\"#46039f\"],[0.2222222222222222,\"#7201a8\"],[0.3333333333333333,\"#9c179e\"],[0.4444444444444444,\"#bd3786\"],[0.5555555555555556,\"#d8576b\"],[0.6666666666666666,\"#ed7953\"],[0.7777777777777778,\"#fb9f3a\"],[0.8888888888888888,\"#fdca26\"],[1.0,\"#f0f921\"]]}],\"surface\":[{\"type\":\"surface\",\"colorbar\":{\"outlinewidth\":0,\"ticks\":\"\"},\"colorscale\":[[0.0,\"#0d0887\"],[0.1111111111111111,\"#46039f\"],[0.2222222222222222,\"#7201a8\"],[0.3333333333333333,\"#9c179e\"],[0.4444444444444444,\"#bd3786\"],[0.5555555555555556,\"#d8576b\"],[0.6666666666666666,\"#ed7953\"],[0.7777777777777778,\"#fb9f3a\"],[0.8888888888888888,\"#fdca26\"],[1.0,\"#f0f921\"]]}],\"mesh3d\":[{\"type\":\"mesh3d\",\"colorbar\":{\"outlinewidth\":0,\"ticks\":\"\"}}],\"scatter\":[{\"fillpattern\":{\"fillmode\":\"overlay\",\"size\":10,\"solidity\":0.2},\"type\":\"scatter\"}],\"parcoords\":[{\"type\":\"parcoords\",\"line\":{\"colorbar\":{\"outlinewidth\":0,\"ticks\":\"\"}}}],\"scatterpolargl\":[{\"type\":\"scatterpolargl\",\"marker\":{\"colorbar\":{\"outlinewidth\":0,\"ticks\":\"\"}}}],\"bar\":[{\"error_x\":{\"color\":\"#2a3f5f\"},\"error_y\":{\"color\":\"#2a3f5f\"},\"marker\":{\"line\":{\"color\":\"#E5ECF6\",\"width\":0.5},\"pattern\":{\"fillmode\":\"overlay\",\"size\":10,\"solidity\":0.2}},\"type\":\"bar\"}],\"scattergeo\":[{\"type\":\"scattergeo\",\"marker\":{\"colorbar\":{\"outlinewidth\":0,\"ticks\":\"\"}}}],\"scatterpolar\":[{\"type\":\"scatterpolar\",\"marker\":{\"colorbar\":{\"outlinewidth\":0,\"ticks\":\"\"}}}],\"histogram\":[{\"marker\":{\"pattern\":{\"fillmode\":\"overlay\",\"size\":10,\"solidity\":0.2}},\"type\":\"histogram\"}],\"scattergl\":[{\"type\":\"scattergl\",\"marker\":{\"colorbar\":{\"outlinewidth\":0,\"ticks\":\"\"}}}],\"scatter3d\":[{\"type\":\"scatter3d\",\"line\":{\"colorbar\":{\"outlinewidth\":0,\"ticks\":\"\"}},\"marker\":{\"colorbar\":{\"outlinewidth\":0,\"ticks\":\"\"}}}],\"scattermapbox\":[{\"type\":\"scattermapbox\",\"marker\":{\"colorbar\":{\"outlinewidth\":0,\"ticks\":\"\"}}}],\"scatterternary\":[{\"type\":\"scatterternary\",\"marker\":{\"colorbar\":{\"outlinewidth\":0,\"ticks\":\"\"}}}],\"scattercarpet\":[{\"type\":\"scattercarpet\",\"marker\":{\"colorbar\":{\"outlinewidth\":0,\"ticks\":\"\"}}}],\"carpet\":[{\"aaxis\":{\"endlinecolor\":\"#2a3f5f\",\"gridcolor\":\"white\",\"linecolor\":\"white\",\"minorgridcolor\":\"white\",\"startlinecolor\":\"#2a3f5f\"},\"baxis\":{\"endlinecolor\":\"#2a3f5f\",\"gridcolor\":\"white\",\"linecolor\":\"white\",\"minorgridcolor\":\"white\",\"startlinecolor\":\"#2a3f5f\"},\"type\":\"carpet\"}],\"table\":[{\"cells\":{\"fill\":{\"color\":\"#EBF0F8\"},\"line\":{\"color\":\"white\"}},\"header\":{\"fill\":{\"color\":\"#C8D4E3\"},\"line\":{\"color\":\"white\"}},\"type\":\"table\"}],\"barpolar\":[{\"marker\":{\"line\":{\"color\":\"#E5ECF6\",\"width\":0.5},\"pattern\":{\"fillmode\":\"overlay\",\"size\":10,\"solidity\":0.2}},\"type\":\"barpolar\"}],\"pie\":[{\"automargin\":true,\"type\":\"pie\"}]},\"layout\":{\"autotypenumbers\":\"strict\",\"colorway\":[\"#636efa\",\"#EF553B\",\"#00cc96\",\"#ab63fa\",\"#FFA15A\",\"#19d3f3\",\"#FF6692\",\"#B6E880\",\"#FF97FF\",\"#FECB52\"],\"font\":{\"color\":\"#2a3f5f\"},\"hovermode\":\"closest\",\"hoverlabel\":{\"align\":\"left\"},\"paper_bgcolor\":\"white\",\"plot_bgcolor\":\"#E5ECF6\",\"polar\":{\"bgcolor\":\"#E5ECF6\",\"angularaxis\":{\"gridcolor\":\"white\",\"linecolor\":\"white\",\"ticks\":\"\"},\"radialaxis\":{\"gridcolor\":\"white\",\"linecolor\":\"white\",\"ticks\":\"\"}},\"ternary\":{\"bgcolor\":\"#E5ECF6\",\"aaxis\":{\"gridcolor\":\"white\",\"linecolor\":\"white\",\"ticks\":\"\"},\"baxis\":{\"gridcolor\":\"white\",\"linecolor\":\"white\",\"ticks\":\"\"},\"caxis\":{\"gridcolor\":\"white\",\"linecolor\":\"white\",\"ticks\":\"\"}},\"coloraxis\":{\"colorbar\":{\"outlinewidth\":0,\"ticks\":\"\"}},\"colorscale\":{\"sequential\":[[0.0,\"#0d0887\"],[0.1111111111111111,\"#46039f\"],[0.2222222222222222,\"#7201a8\"],[0.3333333333333333,\"#9c179e\"],[0.4444444444444444,\"#bd3786\"],[0.5555555555555556,\"#d8576b\"],[0.6666666666666666,\"#ed7953\"],[0.7777777777777778,\"#fb9f3a\"],[0.8888888888888888,\"#fdca26\"],[1.0,\"#f0f921\"]],\"sequentialminus\":[[0.0,\"#0d0887\"],[0.1111111111111111,\"#46039f\"],[0.2222222222222222,\"#7201a8\"],[0.3333333333333333,\"#9c179e\"],[0.4444444444444444,\"#bd3786\"],[0.5555555555555556,\"#d8576b\"],[0.6666666666666666,\"#ed7953\"],[0.7777777777777778,\"#fb9f3a\"],[0.8888888888888888,\"#fdca26\"],[1.0,\"#f0f921\"]],\"diverging\":[[0,\"#8e0152\"],[0.1,\"#c51b7d\"],[0.2,\"#de77ae\"],[0.3,\"#f1b6da\"],[0.4,\"#fde0ef\"],[0.5,\"#f7f7f7\"],[0.6,\"#e6f5d0\"],[0.7,\"#b8e186\"],[0.8,\"#7fbc41\"],[0.9,\"#4d9221\"],[1,\"#276419\"]]},\"xaxis\":{\"gridcolor\":\"white\",\"linecolor\":\"white\",\"ticks\":\"\",\"title\":{\"standoff\":15},\"zerolinecolor\":\"white\",\"automargin\":true,\"zerolinewidth\":2},\"yaxis\":{\"gridcolor\":\"white\",\"linecolor\":\"white\",\"ticks\":\"\",\"title\":{\"standoff\":15},\"zerolinecolor\":\"white\",\"automargin\":true,\"zerolinewidth\":2},\"scene\":{\"xaxis\":{\"backgroundcolor\":\"#E5ECF6\",\"gridcolor\":\"white\",\"linecolor\":\"white\",\"showbackground\":true,\"ticks\":\"\",\"zerolinecolor\":\"white\",\"gridwidth\":2},\"yaxis\":{\"backgroundcolor\":\"#E5ECF6\",\"gridcolor\":\"white\",\"linecolor\":\"white\",\"showbackground\":true,\"ticks\":\"\",\"zerolinecolor\":\"white\",\"gridwidth\":2},\"zaxis\":{\"backgroundcolor\":\"#E5ECF6\",\"gridcolor\":\"white\",\"linecolor\":\"white\",\"showbackground\":true,\"ticks\":\"\",\"zerolinecolor\":\"white\",\"gridwidth\":2}},\"shapedefaults\":{\"line\":{\"color\":\"#2a3f5f\"}},\"annotationdefaults\":{\"arrowcolor\":\"#2a3f5f\",\"arrowhead\":0,\"arrowwidth\":1},\"geo\":{\"bgcolor\":\"white\",\"landcolor\":\"#E5ECF6\",\"subunitcolor\":\"white\",\"showland\":true,\"showlakes\":true,\"lakecolor\":\"white\"},\"title\":{\"x\":0.05},\"mapbox\":{\"style\":\"light\"}}},\"xaxis\":{\"anchor\":\"y\",\"domain\":[0.0,1.0],\"title\":{\"text\":\"Temperatura (\\u00b0C)\"}},\"yaxis\":{\"anchor\":\"x\",\"domain\":[0.0,1.0],\"title\":{\"text\":\"Frekwencja\"}},\"legend\":{\"title\":{\"text\":\"Sezon\"},\"tracegroupgap\":0},\"title\":{\"text\":\"Temperatura a frekwencja na meczach\"}},                        {\"responsive\": true}                    ).then(function(){\n",
       "                            \n",
       "var gd = document.getElementById('b415c5f3-a91a-491f-958c-d29b030f1205');\n",
       "var x = new MutationObserver(function (mutations, observer) {{\n",
       "        var display = window.getComputedStyle(gd).display;\n",
       "        if (!display || display === 'none') {{\n",
       "            console.log([gd, 'removed!']);\n",
       "            Plotly.purge(gd);\n",
       "            observer.disconnect();\n",
       "        }}\n",
       "}});\n",
       "\n",
       "// Listen for the removal of the full notebook cells\n",
       "var notebookContainer = gd.closest('#notebook-container');\n",
       "if (notebookContainer) {{\n",
       "    x.observe(notebookContainer, {childList: true});\n",
       "}}\n",
       "\n",
       "// Listen for the clearing of the current output cell\n",
       "var outputEl = gd.closest('.output');\n",
       "if (outputEl) {{\n",
       "    x.observe(outputEl, {childList: true});\n",
       "}}\n",
       "\n",
       "                        })                };                });            </script>        </div>"
      ]
     },
     "metadata": {},
     "output_type": "display_data"
    }
   ],
   "source": [
    "sns.set_style(\"whitegrid\")\n",
    "\n",
    "\n",
    "fig = px.scatter(df, x='temperatura', y='frekwencja', color='sezon', hover_data=['pozycja_przed_meczem', 'rywal'],\n",
    "                 title='Temperatura a frekwencja na meczach', \n",
    "                 labels={'temperatura': 'Temperatura (°C)', 'frekwencja': 'Frekwencja', 'sezon': 'Sezon'},\n",
    "                 template='plotly')  \n",
    "\n",
    "\n",
    "fig.update_xaxes(title_text='Temperatura (°C)')\n",
    "fig.update_yaxes(title_text='Frekwencja')\n",
    "\n",
    "fig.show()\n",
    "\n"
   ]
  },
  {
   "cell_type": "markdown",
   "id": "2302c6f6",
   "metadata": {},
   "source": [
    "Kolumny dzien_tygodnia oraz godzina postanowiłem zakodować metodą one-hot."
   ]
  },
  {
   "cell_type": "code",
   "execution_count": 25,
   "id": "85ab1823",
   "metadata": {},
   "outputs": [],
   "source": [
    "kody_dni = pd.get_dummies(df['dzien_tygodnia'], prefix='dzien')"
   ]
  },
  {
   "cell_type": "code",
   "execution_count": 26,
   "id": "5c890f28",
   "metadata": {},
   "outputs": [],
   "source": [
    "kody_godzin = pd.get_dummies(df['godzina'], prefix='godzina')"
   ]
  },
  {
   "cell_type": "code",
   "execution_count": 28,
   "id": "14ffaee9",
   "metadata": {},
   "outputs": [],
   "source": [
    "df1 = pd.concat([df, kody_dni, kody_godzin], axis=1)"
   ]
  },
  {
   "cell_type": "code",
   "execution_count": 29,
   "id": "32cfab31",
   "metadata": {
    "scrolled": false
   },
   "outputs": [
    {
     "data": {
      "text/html": [
       "<div>\n",
       "<style scoped>\n",
       "    .dataframe tbody tr th:only-of-type {\n",
       "        vertical-align: middle;\n",
       "    }\n",
       "\n",
       "    .dataframe tbody tr th {\n",
       "        vertical-align: top;\n",
       "    }\n",
       "\n",
       "    .dataframe thead th {\n",
       "        text-align: right;\n",
       "    }\n",
       "</style>\n",
       "<table border=\"1\" class=\"dataframe\">\n",
       "  <thead>\n",
       "    <tr style=\"text-align: right;\">\n",
       "      <th></th>\n",
       "      <th>sezon</th>\n",
       "      <th>dzien_tygodnia</th>\n",
       "      <th>godzina</th>\n",
       "      <th>temperatura</th>\n",
       "      <th>pozycja_przed_meczem</th>\n",
       "      <th>rywal</th>\n",
       "      <th>frekwencja</th>\n",
       "      <th>kod_rywala</th>\n",
       "      <th>dzien_niedziela</th>\n",
       "      <th>dzien_piątek</th>\n",
       "      <th>...</th>\n",
       "      <th>dzien_wtorek</th>\n",
       "      <th>dzien_środa</th>\n",
       "      <th>godzina_12:30</th>\n",
       "      <th>godzina_15:00</th>\n",
       "      <th>godzina_15:30</th>\n",
       "      <th>godzina_17:30</th>\n",
       "      <th>godzina_18:00</th>\n",
       "      <th>godzina_19:00</th>\n",
       "      <th>godzina_20:00</th>\n",
       "      <th>godzina_20:30</th>\n",
       "    </tr>\n",
       "  </thead>\n",
       "  <tbody>\n",
       "    <tr>\n",
       "      <th>0</th>\n",
       "      <td>2015/2016</td>\n",
       "      <td>niedziela</td>\n",
       "      <td>15:30</td>\n",
       "      <td>16</td>\n",
       "      <td>11</td>\n",
       "      <td>Nieciecza</td>\n",
       "      <td>10653</td>\n",
       "      <td>15</td>\n",
       "      <td>1</td>\n",
       "      <td>0</td>\n",
       "      <td>...</td>\n",
       "      <td>0</td>\n",
       "      <td>0</td>\n",
       "      <td>0</td>\n",
       "      <td>0</td>\n",
       "      <td>1</td>\n",
       "      <td>0</td>\n",
       "      <td>0</td>\n",
       "      <td>0</td>\n",
       "      <td>0</td>\n",
       "      <td>0</td>\n",
       "    </tr>\n",
       "    <tr>\n",
       "      <th>1</th>\n",
       "      <td>2015/2016</td>\n",
       "      <td>niedziela</td>\n",
       "      <td>15:30</td>\n",
       "      <td>26</td>\n",
       "      <td>7</td>\n",
       "      <td>Zagłębie Lubin</td>\n",
       "      <td>11055</td>\n",
       "      <td>4</td>\n",
       "      <td>1</td>\n",
       "      <td>0</td>\n",
       "      <td>...</td>\n",
       "      <td>0</td>\n",
       "      <td>0</td>\n",
       "      <td>0</td>\n",
       "      <td>0</td>\n",
       "      <td>1</td>\n",
       "      <td>0</td>\n",
       "      <td>0</td>\n",
       "      <td>0</td>\n",
       "      <td>0</td>\n",
       "      <td>0</td>\n",
       "    </tr>\n",
       "    <tr>\n",
       "      <th>2</th>\n",
       "      <td>2015/2016</td>\n",
       "      <td>niedziela</td>\n",
       "      <td>15:30</td>\n",
       "      <td>28</td>\n",
       "      <td>7</td>\n",
       "      <td>Ruch Chorzów</td>\n",
       "      <td>12758</td>\n",
       "      <td>22</td>\n",
       "      <td>1</td>\n",
       "      <td>0</td>\n",
       "      <td>...</td>\n",
       "      <td>0</td>\n",
       "      <td>0</td>\n",
       "      <td>0</td>\n",
       "      <td>0</td>\n",
       "      <td>1</td>\n",
       "      <td>0</td>\n",
       "      <td>0</td>\n",
       "      <td>0</td>\n",
       "      <td>0</td>\n",
       "      <td>0</td>\n",
       "    </tr>\n",
       "    <tr>\n",
       "      <th>3</th>\n",
       "      <td>2015/2016</td>\n",
       "      <td>niedziela</td>\n",
       "      <td>18:00</td>\n",
       "      <td>26</td>\n",
       "      <td>4</td>\n",
       "      <td>Legia Warszawa</td>\n",
       "      <td>22172</td>\n",
       "      <td>26</td>\n",
       "      <td>1</td>\n",
       "      <td>0</td>\n",
       "      <td>...</td>\n",
       "      <td>0</td>\n",
       "      <td>0</td>\n",
       "      <td>0</td>\n",
       "      <td>0</td>\n",
       "      <td>0</td>\n",
       "      <td>0</td>\n",
       "      <td>1</td>\n",
       "      <td>0</td>\n",
       "      <td>0</td>\n",
       "      <td>0</td>\n",
       "    </tr>\n",
       "    <tr>\n",
       "      <th>4</th>\n",
       "      <td>2015/2016</td>\n",
       "      <td>niedziela</td>\n",
       "      <td>18:00</td>\n",
       "      <td>15</td>\n",
       "      <td>10</td>\n",
       "      <td>Lech Poznań</td>\n",
       "      <td>19177</td>\n",
       "      <td>24</td>\n",
       "      <td>1</td>\n",
       "      <td>0</td>\n",
       "      <td>...</td>\n",
       "      <td>0</td>\n",
       "      <td>0</td>\n",
       "      <td>0</td>\n",
       "      <td>0</td>\n",
       "      <td>0</td>\n",
       "      <td>0</td>\n",
       "      <td>1</td>\n",
       "      <td>0</td>\n",
       "      <td>0</td>\n",
       "      <td>0</td>\n",
       "    </tr>\n",
       "    <tr>\n",
       "      <th>...</th>\n",
       "      <td>...</td>\n",
       "      <td>...</td>\n",
       "      <td>...</td>\n",
       "      <td>...</td>\n",
       "      <td>...</td>\n",
       "      <td>...</td>\n",
       "      <td>...</td>\n",
       "      <td>...</td>\n",
       "      <td>...</td>\n",
       "      <td>...</td>\n",
       "      <td>...</td>\n",
       "      <td>...</td>\n",
       "      <td>...</td>\n",
       "      <td>...</td>\n",
       "      <td>...</td>\n",
       "      <td>...</td>\n",
       "      <td>...</td>\n",
       "      <td>...</td>\n",
       "      <td>...</td>\n",
       "      <td>...</td>\n",
       "      <td>...</td>\n",
       "    </tr>\n",
       "    <tr>\n",
       "      <th>100</th>\n",
       "      <td>2023/2024</td>\n",
       "      <td>sobota</td>\n",
       "      <td>15:00</td>\n",
       "      <td>11</td>\n",
       "      <td>1</td>\n",
       "      <td>Ruch Chorzów</td>\n",
       "      <td>11098</td>\n",
       "      <td>22</td>\n",
       "      <td>0</td>\n",
       "      <td>0</td>\n",
       "      <td>...</td>\n",
       "      <td>0</td>\n",
       "      <td>0</td>\n",
       "      <td>0</td>\n",
       "      <td>1</td>\n",
       "      <td>0</td>\n",
       "      <td>0</td>\n",
       "      <td>0</td>\n",
       "      <td>0</td>\n",
       "      <td>0</td>\n",
       "      <td>0</td>\n",
       "    </tr>\n",
       "    <tr>\n",
       "      <th>101</th>\n",
       "      <td>2023/2024</td>\n",
       "      <td>piątek</td>\n",
       "      <td>20:30</td>\n",
       "      <td>-2</td>\n",
       "      <td>3</td>\n",
       "      <td>Śląsk Wrocław</td>\n",
       "      <td>13840</td>\n",
       "      <td>13</td>\n",
       "      <td>0</td>\n",
       "      <td>1</td>\n",
       "      <td>...</td>\n",
       "      <td>0</td>\n",
       "      <td>0</td>\n",
       "      <td>0</td>\n",
       "      <td>0</td>\n",
       "      <td>0</td>\n",
       "      <td>0</td>\n",
       "      <td>0</td>\n",
       "      <td>0</td>\n",
       "      <td>0</td>\n",
       "      <td>1</td>\n",
       "    </tr>\n",
       "    <tr>\n",
       "      <th>102</th>\n",
       "      <td>2023/2024</td>\n",
       "      <td>sobota</td>\n",
       "      <td>15:00</td>\n",
       "      <td>22</td>\n",
       "      <td>1</td>\n",
       "      <td>ŁKS Łódź</td>\n",
       "      <td>15007</td>\n",
       "      <td>25</td>\n",
       "      <td>0</td>\n",
       "      <td>0</td>\n",
       "      <td>...</td>\n",
       "      <td>0</td>\n",
       "      <td>0</td>\n",
       "      <td>0</td>\n",
       "      <td>1</td>\n",
       "      <td>0</td>\n",
       "      <td>0</td>\n",
       "      <td>0</td>\n",
       "      <td>0</td>\n",
       "      <td>0</td>\n",
       "      <td>0</td>\n",
       "    </tr>\n",
       "    <tr>\n",
       "      <th>103</th>\n",
       "      <td>2023/2024</td>\n",
       "      <td>niedziela</td>\n",
       "      <td>15:00</td>\n",
       "      <td>16</td>\n",
       "      <td>1</td>\n",
       "      <td>Cracovia</td>\n",
       "      <td>18184</td>\n",
       "      <td>20</td>\n",
       "      <td>1</td>\n",
       "      <td>0</td>\n",
       "      <td>...</td>\n",
       "      <td>0</td>\n",
       "      <td>0</td>\n",
       "      <td>0</td>\n",
       "      <td>1</td>\n",
       "      <td>0</td>\n",
       "      <td>0</td>\n",
       "      <td>0</td>\n",
       "      <td>0</td>\n",
       "      <td>0</td>\n",
       "      <td>0</td>\n",
       "    </tr>\n",
       "    <tr>\n",
       "      <th>104</th>\n",
       "      <td>2023/2024</td>\n",
       "      <td>piątek</td>\n",
       "      <td>20:30</td>\n",
       "      <td>9</td>\n",
       "      <td>1</td>\n",
       "      <td>Pogoń Szczecin</td>\n",
       "      <td>19474</td>\n",
       "      <td>12</td>\n",
       "      <td>0</td>\n",
       "      <td>1</td>\n",
       "      <td>...</td>\n",
       "      <td>0</td>\n",
       "      <td>0</td>\n",
       "      <td>0</td>\n",
       "      <td>0</td>\n",
       "      <td>0</td>\n",
       "      <td>0</td>\n",
       "      <td>0</td>\n",
       "      <td>0</td>\n",
       "      <td>0</td>\n",
       "      <td>1</td>\n",
       "    </tr>\n",
       "  </tbody>\n",
       "</table>\n",
       "<p>105 rows × 22 columns</p>\n",
       "</div>"
      ],
      "text/plain": [
       "         sezon dzien_tygodnia godzina  temperatura  pozycja_przed_meczem  \\\n",
       "0    2015/2016      niedziela   15:30           16                    11   \n",
       "1    2015/2016      niedziela   15:30           26                     7   \n",
       "2    2015/2016      niedziela   15:30           28                     7   \n",
       "3    2015/2016      niedziela   18:00           26                     4   \n",
       "4    2015/2016      niedziela   18:00           15                    10   \n",
       "..         ...            ...     ...          ...                   ...   \n",
       "100  2023/2024         sobota   15:00           11                     1   \n",
       "101  2023/2024         piątek   20:30           -2                     3   \n",
       "102  2023/2024         sobota   15:00           22                     1   \n",
       "103  2023/2024      niedziela   15:00           16                     1   \n",
       "104  2023/2024         piątek   20:30            9                     1   \n",
       "\n",
       "              rywal  frekwencja  kod_rywala  dzien_niedziela  dzien_piątek  \\\n",
       "0         Nieciecza       10653          15                1             0   \n",
       "1    Zagłębie Lubin       11055           4                1             0   \n",
       "2      Ruch Chorzów       12758          22                1             0   \n",
       "3    Legia Warszawa       22172          26                1             0   \n",
       "4       Lech Poznań       19177          24                1             0   \n",
       "..              ...         ...         ...              ...           ...   \n",
       "100    Ruch Chorzów       11098          22                0             0   \n",
       "101   Śląsk Wrocław       13840          13                0             1   \n",
       "102        ŁKS Łódź       15007          25                0             0   \n",
       "103        Cracovia       18184          20                1             0   \n",
       "104  Pogoń Szczecin       19474          12                0             1   \n",
       "\n",
       "     ...  dzien_wtorek  dzien_środa  godzina_12:30  godzina_15:00  \\\n",
       "0    ...             0            0              0              0   \n",
       "1    ...             0            0              0              0   \n",
       "2    ...             0            0              0              0   \n",
       "3    ...             0            0              0              0   \n",
       "4    ...             0            0              0              0   \n",
       "..   ...           ...          ...            ...            ...   \n",
       "100  ...             0            0              0              1   \n",
       "101  ...             0            0              0              0   \n",
       "102  ...             0            0              0              1   \n",
       "103  ...             0            0              0              1   \n",
       "104  ...             0            0              0              0   \n",
       "\n",
       "     godzina_15:30  godzina_17:30  godzina_18:00  godzina_19:00  \\\n",
       "0                1              0              0              0   \n",
       "1                1              0              0              0   \n",
       "2                1              0              0              0   \n",
       "3                0              0              1              0   \n",
       "4                0              0              1              0   \n",
       "..             ...            ...            ...            ...   \n",
       "100              0              0              0              0   \n",
       "101              0              0              0              0   \n",
       "102              0              0              0              0   \n",
       "103              0              0              0              0   \n",
       "104              0              0              0              0   \n",
       "\n",
       "     godzina_20:00  godzina_20:30  \n",
       "0                0              0  \n",
       "1                0              0  \n",
       "2                0              0  \n",
       "3                0              0  \n",
       "4                0              0  \n",
       "..             ...            ...  \n",
       "100              0              0  \n",
       "101              0              1  \n",
       "102              0              0  \n",
       "103              0              0  \n",
       "104              0              1  \n",
       "\n",
       "[105 rows x 22 columns]"
      ]
     },
     "execution_count": 29,
     "metadata": {},
     "output_type": "execute_result"
    }
   ],
   "source": [
    "df1"
   ]
  },
  {
   "cell_type": "markdown",
   "id": "60199487",
   "metadata": {},
   "source": [
    "Obliczenie macierzy korelacji"
   ]
  },
  {
   "cell_type": "code",
   "execution_count": 30,
   "id": "ed58510a",
   "metadata": {},
   "outputs": [],
   "source": [
    "macierz_korelacji = df1.corr()"
   ]
  },
  {
   "cell_type": "code",
   "execution_count": 32,
   "id": "002c794f",
   "metadata": {
    "scrolled": true
   },
   "outputs": [
    {
     "name": "stdout",
     "output_type": "stream",
     "text": [
      "                      temperatura  pozycja_przed_meczem  frekwencja  \\\n",
      "temperatura              1.000000              0.056218    0.511215   \n",
      "pozycja_przed_meczem     0.056218              1.000000   -0.332025   \n",
      "frekwencja               0.511215             -0.332025    1.000000   \n",
      "kod_rywala               0.197674             -0.244795    0.624442   \n",
      "dzien_niedziela          0.404575             -0.168470    0.451255   \n",
      "dzien_piątek            -0.251663             -0.033395   -0.170172   \n",
      "dzien_poniedziałek      -0.018114              0.070279   -0.176588   \n",
      "dzien_sobota            -0.144022              0.151654   -0.164216   \n",
      "dzien_wtorek             0.002294              0.065951   -0.129066   \n",
      "dzien_środa             -0.072988             -0.012562   -0.025482   \n",
      "godzina_12:30            0.107567             -0.053039    0.025139   \n",
      "godzina_15:00            0.113335              0.144010    0.042013   \n",
      "godzina_15:30            0.113976              0.072898   -0.103339   \n",
      "godzina_17:30            0.037404              0.208236    0.054937   \n",
      "godzina_18:00            0.122530             -0.240942    0.146649   \n",
      "godzina_19:00           -0.008981              0.145858   -0.103819   \n",
      "godzina_20:00           -0.145421              0.216447   -0.053962   \n",
      "godzina_20:30           -0.304720             -0.105299   -0.098557   \n",
      "\n",
      "                      kod_rywala  dzien_niedziela  dzien_piątek  \\\n",
      "temperatura             0.197674     4.045752e-01     -0.251663   \n",
      "pozycja_przed_meczem   -0.244795    -1.684698e-01     -0.033395   \n",
      "frekwencja              0.624442     4.512550e-01     -0.170172   \n",
      "kod_rywala              1.000000     1.098932e-01     -0.045278   \n",
      "dzien_niedziela         0.109893     1.000000e+00     -0.416025   \n",
      "dzien_piątek           -0.045278    -4.160251e-01      1.000000   \n",
      "dzien_poniedziałek     -0.059951    -1.740777e-01     -0.144841   \n",
      "dzien_sobota           -0.030427    -4.787136e-01     -0.398314   \n",
      "dzien_wtorek           -0.108537    -9.853293e-02     -0.081984   \n",
      "dzien_środa             0.079463    -9.853293e-02     -0.081984   \n",
      "godzina_12:30           0.018119     1.386750e-01     -0.057692   \n",
      "godzina_15:00           0.002328    -5.076731e-02     -0.168964   \n",
      "godzina_15:30          -0.263374     3.216338e-01     -0.267615   \n",
      "godzina_17:30           0.039573    -2.699746e-02     -0.157243   \n",
      "godzina_18:00           0.191213     1.095582e-01     -0.091158   \n",
      "godzina_19:00          -0.145675    -6.933752e-02     -0.057692   \n",
      "godzina_20:00           0.024344    -2.103661e-18     -0.100901   \n",
      "godzina_20:30           0.007327    -3.849002e-01      0.613825   \n",
      "\n",
      "                      dzien_poniedziałek  dzien_sobota  dzien_wtorek  \\\n",
      "temperatura                    -0.018114     -0.144022      0.002294   \n",
      "pozycja_przed_meczem            0.070279      0.151654      0.065951   \n",
      "frekwencja                     -0.176588     -0.164216     -0.129066   \n",
      "kod_rywala                     -0.059951     -0.030427     -0.108537   \n",
      "dzien_niedziela                -0.174078     -0.478714     -0.098533   \n",
      "dzien_piątek                   -0.144841     -0.398314     -0.081984   \n",
      "dzien_poniedziałek              1.000000     -0.166667     -0.034305   \n",
      "dzien_sobota                   -0.166667      1.000000     -0.094338   \n",
      "dzien_wtorek                   -0.034305     -0.094338      1.000000   \n",
      "dzien_środa                    -0.034305     -0.094338     -0.019417   \n",
      "godzina_12:30                  -0.024140     -0.066386     -0.013664   \n",
      "godzina_15:00                   0.083956      0.192215     -0.040018   \n",
      "godzina_15:30                  -0.111979      0.018663     -0.063383   \n",
      "godzina_17:30                  -0.065795      0.230283     -0.037242   \n",
      "godzina_18:00                   0.128734     -0.063175      0.025638   \n",
      "godzina_19:00                   0.398314     -0.066386     -0.013664   \n",
      "godzina_20:00                  -0.042220      0.130178     -0.023898   \n",
      "godzina_20:30                  -0.134005     -0.221946      0.090073   \n",
      "\n",
      "                      dzien_środa  godzina_12:30  godzina_15:00  \\\n",
      "temperatura             -0.072988       0.107567       0.113335   \n",
      "pozycja_przed_meczem    -0.012562      -0.053039       0.144010   \n",
      "frekwencja              -0.025482       0.025139       0.042013   \n",
      "kod_rywala               0.079463       0.018119       0.002328   \n",
      "dzien_niedziela         -0.098533       0.138675      -0.050767   \n",
      "dzien_piątek            -0.081984      -0.057692      -0.168964   \n",
      "dzien_poniedziałek      -0.034305      -0.024140       0.083956   \n",
      "dzien_sobota            -0.094338      -0.066386       0.192215   \n",
      "dzien_wtorek            -0.019417      -0.013664      -0.040018   \n",
      "dzien_środa              1.000000      -0.013664      -0.040018   \n",
      "godzina_12:30           -0.013664       1.000000      -0.028161   \n",
      "godzina_15:00           -0.040018      -0.028161       1.000000   \n",
      "godzina_15:30           -0.063383      -0.044603      -0.130628   \n",
      "godzina_17:30           -0.037242      -0.026207      -0.076753   \n",
      "godzina_18:00           -0.116047      -0.081662      -0.239165   \n",
      "godzina_19:00           -0.013664      -0.009615      -0.028161   \n",
      "godzina_20:00           -0.023898      -0.016817      -0.049252   \n",
      "godzina_20:30            0.255996      -0.053376      -0.156323   \n",
      "\n",
      "                      godzina_15:30  godzina_17:30  godzina_18:00  \\\n",
      "temperatura                0.113976       0.037404       0.122530   \n",
      "pozycja_przed_meczem       0.072898       0.208236      -0.240942   \n",
      "frekwencja                -0.103339       0.054937       0.146649   \n",
      "kod_rywala                -0.263374       0.039573       0.191213   \n",
      "dzien_niedziela            0.321634      -0.026997       0.109558   \n",
      "dzien_piątek              -0.267615      -0.157243      -0.091158   \n",
      "dzien_poniedziałek        -0.111979      -0.065795       0.128734   \n",
      "dzien_sobota               0.018663       0.230283      -0.063175   \n",
      "dzien_wtorek              -0.063383      -0.037242       0.025638   \n",
      "dzien_środa               -0.063383      -0.037242      -0.116047   \n",
      "godzina_12:30             -0.044603      -0.026207      -0.081662   \n",
      "godzina_15:00             -0.130628      -0.076753      -0.239165   \n",
      "godzina_15:30              1.000000      -0.121566      -0.378804   \n",
      "godzina_17:30             -0.121566       1.000000      -0.222574   \n",
      "godzina_18:00             -0.378804      -0.222574       1.000000   \n",
      "godzina_19:00             -0.044603      -0.026207      -0.081662   \n",
      "godzina_20:00             -0.078008      -0.045835      -0.142823   \n",
      "godzina_20:30             -0.247594      -0.145479      -0.453316   \n",
      "\n",
      "                      godzina_19:00  godzina_20:00  godzina_20:30  \n",
      "temperatura               -0.008981  -1.454210e-01      -0.304720  \n",
      "pozycja_przed_meczem       0.145858   2.164472e-01      -0.105299  \n",
      "frekwencja                -0.103819  -5.396192e-02      -0.098557  \n",
      "kod_rywala                -0.145675   2.434448e-02       0.007327  \n",
      "dzien_niedziela           -0.069338  -2.103661e-18      -0.384900  \n",
      "dzien_piątek              -0.057692  -1.009009e-01       0.613825  \n",
      "dzien_poniedziałek         0.398314  -4.222003e-02      -0.134005  \n",
      "dzien_sobota              -0.066386   1.301784e-01      -0.221946  \n",
      "dzien_wtorek              -0.013664  -2.389775e-02       0.090073  \n",
      "dzien_środa               -0.013664  -2.389775e-02       0.255996  \n",
      "godzina_12:30             -0.009615  -1.681682e-02      -0.053376  \n",
      "godzina_15:00             -0.028161  -4.925152e-02      -0.156323  \n",
      "godzina_15:30             -0.044603  -7.800765e-02      -0.247594  \n",
      "godzina_17:30             -0.026207  -4.583492e-02      -0.145479  \n",
      "godzina_18:00             -0.081662  -1.428233e-01      -0.453316  \n",
      "godzina_19:00              1.000000  -1.681682e-02      -0.053376  \n",
      "godzina_20:00             -0.016817   1.000000e+00      -0.093352  \n",
      "godzina_20:30             -0.053376  -9.335201e-02       1.000000  \n"
     ]
    }
   ],
   "source": [
    "print(macierz_korelacji)"
   ]
  },
  {
   "cell_type": "markdown",
   "id": "599c48f5",
   "metadata": {},
   "source": [
    "Podział na zmienne objaśniające i zmienną objaśnianą "
   ]
  },
  {
   "cell_type": "code",
   "execution_count": 33,
   "id": "c3d00257",
   "metadata": {},
   "outputs": [],
   "source": [
    "X = df1[['temperatura', 'pozycja_przed_meczem', 'kod_rywala', 'dzien_niedziela']]\n",
    "y = df1['frekwencja']\n"
   ]
  },
  {
   "cell_type": "markdown",
   "id": "ec604a40",
   "metadata": {},
   "source": [
    "Import oraz inicjalizacja modeli regresji liniowej, drzewa decyzyjnego, lasu losowego oraz SVR"
   ]
  },
  {
   "cell_type": "code",
   "execution_count": 34,
   "id": "34af8e8e",
   "metadata": {},
   "outputs": [],
   "source": [
    "from sklearn.linear_model import LinearRegression\n",
    "from sklearn.tree import DecisionTreeRegressor\n",
    "from sklearn.ensemble import RandomForestRegressor\n",
    "from sklearn.svm import SVR\n",
    "\n",
    "regresja_liniowa = LinearRegression()\n",
    "drzewo_decyzyjne = DecisionTreeRegressor(random_state=2020)\n",
    "las_losowy = RandomForestRegressor(random_state=2020)\n",
    "model_svr = SVR()"
   ]
  },
  {
   "cell_type": "markdown",
   "id": "f38ecd12",
   "metadata": {},
   "source": [
    "Wykonanie predykcji z wykorzystaniem walidacji krzyżowej oraz obliczenie wartości błędów średniokwadratowych"
   ]
  },
  {
   "cell_type": "code",
   "execution_count": 35,
   "id": "c665c00c",
   "metadata": {},
   "outputs": [
    {
     "name": "stdout",
     "output_type": "stream",
     "text": [
      "Błąd średniokwadratowy dla regresji liniowej: 7226688.944444552\n",
      "Błąd średniokwadratowy dla drzewa decyzyjnego: 13379642.0\n",
      "Błąd średniokwadratowy dla lasu losowego: 7001802.286202857\n",
      "Błąd średniokwadratowy dla SVR: 20353878.36920744\n"
     ]
    }
   ],
   "source": [
    "from sklearn.model_selection import cross_val_predict\n",
    "from sklearn.metrics import mean_squared_error\n",
    "\n",
    "\n",
    "y_pred_regresja_liniowa = cross_val_predict(regresja_liniowa, X, y, cv=5)\n",
    "y_pred_drzewo_decyzyjne = cross_val_predict(drzewo_decyzyjne, X, y, cv=5)\n",
    "y_pred_las_losowy = cross_val_predict(las_losowy, X, y, cv=5)\n",
    "y_pred_model_svr = cross_val_predict(model_svr, X, y, cv=5)\n",
    "\n",
    "\n",
    "mse_regresja_liniowa = mean_squared_error(y, y_pred_regresja_liniowa)\n",
    "mse_drzewo_decyzyjne = mean_squared_error(y, y_pred_drzewo_decyzyjne)\n",
    "mse_las_losowy = mean_squared_error(y, y_pred_las_losowy)\n",
    "mse_model_svr = mean_squared_error(y, y_pred_model_svr)\n",
    "\n",
    "print(\"Błąd średniokwadratowy dla regresji liniowej:\", mse_regresja_liniowa)\n",
    "print(\"Błąd średniokwadratowy dla drzewa decyzyjnego:\", mse_drzewo_decyzyjne)\n",
    "print(\"Błąd średniokwadratowy dla lasu losowego:\", mse_las_losowy)\n",
    "print(\"Błąd średniokwadratowy dla SVR:\", mse_model_svr)"
   ]
  },
  {
   "cell_type": "markdown",
   "id": "40bbc8dc",
   "metadata": {},
   "source": [
    "Obliczenie współczynnika R2 z wykorzystaniem walidacji krzyżowej"
   ]
  },
  {
   "cell_type": "code",
   "execution_count": 37,
   "id": "0819183a",
   "metadata": {},
   "outputs": [
    {
     "name": "stdout",
     "output_type": "stream",
     "text": [
      "R2 dla regresji liniowej: 0.5507090889895392\n",
      "R2 dla drzewa decyzyjnego: 0.20700358741513508\n",
      "R2 dla lasu losowego: 0.5624161087629399\n",
      "R2 dla SVR: -0.23670360160390708\n"
     ]
    }
   ],
   "source": [
    "from sklearn.model_selection import cross_val_score\n",
    "\n",
    "# Obliczenie R2 dla każdego modelu za pomocą walidacji krzyżowej\n",
    "r2_regresja_liniowa = cross_val_score(regresja_liniowa, X, y, cv=5, scoring='r2').mean()\n",
    "r2_drzewo_decyzyjne = cross_val_score(drzewo_decyzyjne, X, y, cv=5, scoring='r2').mean()\n",
    "r2_las_losowy = cross_val_score(las_losowy, X, y, cv=5, scoring='r2').mean()\n",
    "r2_model_svr = cross_val_score(model_svr, X, y, cv=5, scoring='r2').mean()\n",
    "\n",
    "print(\"R2 dla regresji liniowej:\", r2_regresja_liniowa)\n",
    "print(\"R2 dla drzewa decyzyjnego:\", r2_drzewo_decyzyjne)\n",
    "print(\"R2 dla lasu losowego:\", r2_las_losowy)\n",
    "print(\"R2 dla SVR:\", r2_model_svr)"
   ]
  },
  {
   "cell_type": "markdown",
   "id": "1e66c00b",
   "metadata": {},
   "source": [
    "Obliczenie kolejnych metryk"
   ]
  },
  {
   "cell_type": "code",
   "execution_count": 38,
   "id": "540a8432",
   "metadata": {},
   "outputs": [
    {
     "name": "stdout",
     "output_type": "stream",
     "text": [
      "Mean Absolute Error dla regresji liniowej: 2096.8036495386773\n",
      "Mean Absolute Error dla drzewa decyzyjnego: 2729.6761904761906\n",
      "Mean Absolute Error dla lasu losowego: 1941.927333333333\n",
      "Mean Absolute Error dla SVR: 3466.797928656038\n",
      "Explained Variance Score dla regresji liniowej: 0.627817661237746\n",
      "Explained Variance Score dla drzewa decyzyjnego: 0.30218067016400896\n",
      "Explained Variance Score dla lasu losowego: 0.6626189363679709\n",
      "Explained Variance Score dla SVR: 0.0036830584159085245\n"
     ]
    }
   ],
   "source": [
    "mae_regresja_liniowa = -cross_val_score(regresja_liniowa, X, y, cv=5, scoring='neg_mean_absolute_error').mean()\n",
    "mae_drzewo_decyzyjne = -cross_val_score(drzewo_decyzyjne, X, y, cv=5, scoring='neg_mean_absolute_error').mean()\n",
    "mae_las_losowy = -cross_val_score(las_losowy, X, y, cv=5, scoring='neg_mean_absolute_error').mean()\n",
    "mae_model_svr = -cross_val_score(model_svr, X, y, cv=5, scoring='neg_mean_absolute_error').mean()\n",
    "\n",
    "print(\"Mean Absolute Error dla regresji liniowej:\", mae_regresja_liniowa)\n",
    "print(\"Mean Absolute Error dla drzewa decyzyjnego:\", mae_drzewo_decyzyjne)\n",
    "print(\"Mean Absolute Error dla lasu losowego:\", mae_las_losowy)\n",
    "print(\"Mean Absolute Error dla SVR:\", mae_model_svr)\n",
    "\n",
    "evs_regresja_liniowa = cross_val_score(regresja_liniowa, X, y, cv=5, scoring='explained_variance').mean()\n",
    "evs_drzewo_decyzyjne = cross_val_score(drzewo_decyzyjne, X, y, cv=5, scoring='explained_variance').mean()\n",
    "evs_las_losowy = cross_val_score(las_losowy, X, y, cv=5, scoring='explained_variance').mean()\n",
    "evs_model_svr = cross_val_score(model_svr, X, y, cv=5, scoring='explained_variance').mean()\n",
    "\n",
    "print(\"Explained Variance Score dla regresji liniowej:\", evs_regresja_liniowa)\n",
    "print(\"Explained Variance Score dla drzewa decyzyjnego:\", evs_drzewo_decyzyjne)\n",
    "print(\"Explained Variance Score dla lasu losowego:\", evs_las_losowy)\n",
    "print(\"Explained Variance Score dla SVR:\", evs_model_svr)\n"
   ]
  },
  {
   "cell_type": "markdown",
   "id": "874a0bf8",
   "metadata": {},
   "source": [
    "Na podstawie wyników metryk wybrałem model lasu losowego. Dostrojenie hiperparametrów za pomocą przeszukiwania siatkowego. "
   ]
  },
  {
   "cell_type": "code",
   "execution_count": 40,
   "id": "6b74de2e",
   "metadata": {
    "scrolled": true
   },
   "outputs": [
    {
     "name": "stdout",
     "output_type": "stream",
     "text": [
      "Najlepsze parametry: {'max_depth': None, 'min_samples_leaf': 1, 'min_samples_split': 2, 'n_estimators': 100}\n",
      "Najlepszy wynik: 7001802.286202855\n"
     ]
    }
   ],
   "source": [
    "from sklearn.model_selection import GridSearchCV\n",
    "\n",
    "\n",
    "param_grid = {\n",
    "    'n_estimators': [50, 100, 200],\n",
    "    'max_depth': [None, 10, 20],\n",
    "    'min_samples_split': [2, 5, 10],\n",
    "    'min_samples_leaf': [1, 2, 4]\n",
    "}\n",
    "\n",
    "\n",
    "\n",
    "grid_search = GridSearchCV(estimator=las_losowy, param_grid=param_grid, cv=5, scoring='neg_mean_squared_error')\n",
    "grid_search.fit(X, y)\n",
    "\n",
    "\n",
    "print(\"Najlepsze parametry:\", grid_search.best_params_)\n",
    "\n",
    "\n",
    "print(\"Najlepszy wynik:\", -grid_search.best_score_)\n"
   ]
  },
  {
   "cell_type": "markdown",
   "id": "78181ed6",
   "metadata": {},
   "source": [
    "Inicjalizacja ostatecznego modelu lasu losowego z najlepszymi hiperparametrami"
   ]
  },
  {
   "cell_type": "code",
   "execution_count": 41,
   "id": "9d86eeb4",
   "metadata": {},
   "outputs": [
    {
     "data": {
      "text/html": [
       "<style>#sk-container-id-1 {color: black;background-color: white;}#sk-container-id-1 pre{padding: 0;}#sk-container-id-1 div.sk-toggleable {background-color: white;}#sk-container-id-1 label.sk-toggleable__label {cursor: pointer;display: block;width: 100%;margin-bottom: 0;padding: 0.3em;box-sizing: border-box;text-align: center;}#sk-container-id-1 label.sk-toggleable__label-arrow:before {content: \"▸\";float: left;margin-right: 0.25em;color: #696969;}#sk-container-id-1 label.sk-toggleable__label-arrow:hover:before {color: black;}#sk-container-id-1 div.sk-estimator:hover label.sk-toggleable__label-arrow:before {color: black;}#sk-container-id-1 div.sk-toggleable__content {max-height: 0;max-width: 0;overflow: hidden;text-align: left;background-color: #f0f8ff;}#sk-container-id-1 div.sk-toggleable__content pre {margin: 0.2em;color: black;border-radius: 0.25em;background-color: #f0f8ff;}#sk-container-id-1 input.sk-toggleable__control:checked~div.sk-toggleable__content {max-height: 200px;max-width: 100%;overflow: auto;}#sk-container-id-1 input.sk-toggleable__control:checked~label.sk-toggleable__label-arrow:before {content: \"▾\";}#sk-container-id-1 div.sk-estimator input.sk-toggleable__control:checked~label.sk-toggleable__label {background-color: #d4ebff;}#sk-container-id-1 div.sk-label input.sk-toggleable__control:checked~label.sk-toggleable__label {background-color: #d4ebff;}#sk-container-id-1 input.sk-hidden--visually {border: 0;clip: rect(1px 1px 1px 1px);clip: rect(1px, 1px, 1px, 1px);height: 1px;margin: -1px;overflow: hidden;padding: 0;position: absolute;width: 1px;}#sk-container-id-1 div.sk-estimator {font-family: monospace;background-color: #f0f8ff;border: 1px dotted black;border-radius: 0.25em;box-sizing: border-box;margin-bottom: 0.5em;}#sk-container-id-1 div.sk-estimator:hover {background-color: #d4ebff;}#sk-container-id-1 div.sk-parallel-item::after {content: \"\";width: 100%;border-bottom: 1px solid gray;flex-grow: 1;}#sk-container-id-1 div.sk-label:hover label.sk-toggleable__label {background-color: #d4ebff;}#sk-container-id-1 div.sk-serial::before {content: \"\";position: absolute;border-left: 1px solid gray;box-sizing: border-box;top: 0;bottom: 0;left: 50%;z-index: 0;}#sk-container-id-1 div.sk-serial {display: flex;flex-direction: column;align-items: center;background-color: white;padding-right: 0.2em;padding-left: 0.2em;position: relative;}#sk-container-id-1 div.sk-item {position: relative;z-index: 1;}#sk-container-id-1 div.sk-parallel {display: flex;align-items: stretch;justify-content: center;background-color: white;position: relative;}#sk-container-id-1 div.sk-item::before, #sk-container-id-1 div.sk-parallel-item::before {content: \"\";position: absolute;border-left: 1px solid gray;box-sizing: border-box;top: 0;bottom: 0;left: 50%;z-index: -1;}#sk-container-id-1 div.sk-parallel-item {display: flex;flex-direction: column;z-index: 1;position: relative;background-color: white;}#sk-container-id-1 div.sk-parallel-item:first-child::after {align-self: flex-end;width: 50%;}#sk-container-id-1 div.sk-parallel-item:last-child::after {align-self: flex-start;width: 50%;}#sk-container-id-1 div.sk-parallel-item:only-child::after {width: 0;}#sk-container-id-1 div.sk-dashed-wrapped {border: 1px dashed gray;margin: 0 0.4em 0.5em 0.4em;box-sizing: border-box;padding-bottom: 0.4em;background-color: white;}#sk-container-id-1 div.sk-label label {font-family: monospace;font-weight: bold;display: inline-block;line-height: 1.2em;}#sk-container-id-1 div.sk-label-container {text-align: center;}#sk-container-id-1 div.sk-container {/* jupyter's `normalize.less` sets `[hidden] { display: none; }` but bootstrap.min.css set `[hidden] { display: none !important; }` so we also need the `!important` here to be able to override the default hidden behavior on the sphinx rendered scikit-learn.org. See: https://github.com/scikit-learn/scikit-learn/issues/21755 */display: inline-block !important;position: relative;}#sk-container-id-1 div.sk-text-repr-fallback {display: none;}</style><div id=\"sk-container-id-1\" class=\"sk-top-container\"><div class=\"sk-text-repr-fallback\"><pre>RandomForestRegressor(random_state=2020)</pre><b>In a Jupyter environment, please rerun this cell to show the HTML representation or trust the notebook. <br />On GitHub, the HTML representation is unable to render, please try loading this page with nbviewer.org.</b></div><div class=\"sk-container\" hidden><div class=\"sk-item\"><div class=\"sk-estimator sk-toggleable\"><input class=\"sk-toggleable__control sk-hidden--visually\" id=\"sk-estimator-id-1\" type=\"checkbox\" checked><label for=\"sk-estimator-id-1\" class=\"sk-toggleable__label sk-toggleable__label-arrow\">RandomForestRegressor</label><div class=\"sk-toggleable__content\"><pre>RandomForestRegressor(random_state=2020)</pre></div></div></div></div></div>"
      ],
      "text/plain": [
       "RandomForestRegressor(random_state=2020)"
      ]
     },
     "execution_count": 41,
     "metadata": {},
     "output_type": "execute_result"
    }
   ],
   "source": [
    "las_losowy_final = RandomForestRegressor(n_estimators=100, max_depth=None, min_samples_split=2, min_samples_leaf=1, random_state=2020)\n",
    "\n",
    "las_losowy_final.fit(X, y)"
   ]
  },
  {
   "cell_type": "markdown",
   "id": "922efdac",
   "metadata": {},
   "source": [
    "Predykcja na podstawie temperatury, pozycji drużyny w tabeli przed meczem, kodu rywala oraz informacji o tym czy mecz jest w niedzielę (0 - nie, 1 - tak)"
   ]
  },
  {
   "cell_type": "code",
   "execution_count": 42,
   "id": "74395944",
   "metadata": {},
   "outputs": [],
   "source": [
    "kody = df1[['rywal', 'kod_rywala']]"
   ]
  },
  {
   "cell_type": "code",
   "execution_count": 43,
   "id": "c99619a8",
   "metadata": {
    "scrolled": false
   },
   "outputs": [],
   "source": [
    "kody = kody.drop_duplicates()"
   ]
  },
  {
   "cell_type": "code",
   "execution_count": 45,
   "id": "66f2156f",
   "metadata": {
    "scrolled": true
   },
   "outputs": [
    {
     "data": {
      "text/html": [
       "<div>\n",
       "<style scoped>\n",
       "    .dataframe tbody tr th:only-of-type {\n",
       "        vertical-align: middle;\n",
       "    }\n",
       "\n",
       "    .dataframe tbody tr th {\n",
       "        vertical-align: top;\n",
       "    }\n",
       "\n",
       "    .dataframe thead th {\n",
       "        text-align: right;\n",
       "    }\n",
       "</style>\n",
       "<table border=\"1\" class=\"dataframe\">\n",
       "  <thead>\n",
       "    <tr style=\"text-align: right;\">\n",
       "      <th></th>\n",
       "      <th>kod_rywala</th>\n",
       "    </tr>\n",
       "    <tr>\n",
       "      <th>rywal</th>\n",
       "      <th></th>\n",
       "    </tr>\n",
       "  </thead>\n",
       "  <tbody>\n",
       "    <tr>\n",
       "      <th>Arka Gdynia</th>\n",
       "      <td>14</td>\n",
       "    </tr>\n",
       "    <tr>\n",
       "      <th>Cracovia</th>\n",
       "      <td>20</td>\n",
       "    </tr>\n",
       "    <tr>\n",
       "      <th>Górnik Zabrze</th>\n",
       "      <td>9</td>\n",
       "    </tr>\n",
       "    <tr>\n",
       "      <th>Górnik Łęczna</th>\n",
       "      <td>1</td>\n",
       "    </tr>\n",
       "    <tr>\n",
       "      <th>Korona Kielce</th>\n",
       "      <td>2</td>\n",
       "    </tr>\n",
       "    <tr>\n",
       "      <th>Lech Poznań</th>\n",
       "      <td>24</td>\n",
       "    </tr>\n",
       "    <tr>\n",
       "      <th>Lechia Gdańsk</th>\n",
       "      <td>17</td>\n",
       "    </tr>\n",
       "    <tr>\n",
       "      <th>Legia Warszawa</th>\n",
       "      <td>26</td>\n",
       "    </tr>\n",
       "    <tr>\n",
       "      <th>Miedź Legnica</th>\n",
       "      <td>11</td>\n",
       "    </tr>\n",
       "    <tr>\n",
       "      <th>Nieciecza</th>\n",
       "      <td>15</td>\n",
       "    </tr>\n",
       "    <tr>\n",
       "      <th>P. Niepołomice</th>\n",
       "      <td>6</td>\n",
       "    </tr>\n",
       "    <tr>\n",
       "      <th>Piast Gliwice</th>\n",
       "      <td>10</td>\n",
       "    </tr>\n",
       "    <tr>\n",
       "      <th>Podbeskidzie</th>\n",
       "      <td>8</td>\n",
       "    </tr>\n",
       "    <tr>\n",
       "      <th>Pogoń Szczecin</th>\n",
       "      <td>12</td>\n",
       "    </tr>\n",
       "    <tr>\n",
       "      <th>Radomiak</th>\n",
       "      <td>16</td>\n",
       "    </tr>\n",
       "    <tr>\n",
       "      <th>Raków</th>\n",
       "      <td>5</td>\n",
       "    </tr>\n",
       "    <tr>\n",
       "      <th>Ruch Chorzów</th>\n",
       "      <td>22</td>\n",
       "    </tr>\n",
       "    <tr>\n",
       "      <th>Sandecja</th>\n",
       "      <td>18</td>\n",
       "    </tr>\n",
       "    <tr>\n",
       "      <th>Stal Mielec</th>\n",
       "      <td>3</td>\n",
       "    </tr>\n",
       "    <tr>\n",
       "      <th>Warta Poznań</th>\n",
       "      <td>7</td>\n",
       "    </tr>\n",
       "    <tr>\n",
       "      <th>Widzew Łódź</th>\n",
       "      <td>19</td>\n",
       "    </tr>\n",
       "    <tr>\n",
       "      <th>Wisła Kraków</th>\n",
       "      <td>23</td>\n",
       "    </tr>\n",
       "    <tr>\n",
       "      <th>Wisła Płock</th>\n",
       "      <td>21</td>\n",
       "    </tr>\n",
       "    <tr>\n",
       "      <th>Z. Sosnowiec</th>\n",
       "      <td>0</td>\n",
       "    </tr>\n",
       "    <tr>\n",
       "      <th>Zagłębie Lubin</th>\n",
       "      <td>4</td>\n",
       "    </tr>\n",
       "    <tr>\n",
       "      <th>ŁKS Łódź</th>\n",
       "      <td>25</td>\n",
       "    </tr>\n",
       "    <tr>\n",
       "      <th>Śląsk Wrocław</th>\n",
       "      <td>13</td>\n",
       "    </tr>\n",
       "  </tbody>\n",
       "</table>\n",
       "</div>"
      ],
      "text/plain": [
       "                kod_rywala\n",
       "rywal                     \n",
       "Arka Gdynia             14\n",
       "Cracovia                20\n",
       "Górnik Zabrze            9\n",
       "Górnik Łęczna            1\n",
       "Korona Kielce            2\n",
       "Lech Poznań             24\n",
       "Lechia Gdańsk           17\n",
       "Legia Warszawa          26\n",
       "Miedź Legnica           11\n",
       "Nieciecza               15\n",
       "P. Niepołomice           6\n",
       "Piast Gliwice           10\n",
       "Podbeskidzie             8\n",
       "Pogoń Szczecin          12\n",
       "Radomiak                16\n",
       "Raków                    5\n",
       "Ruch Chorzów            22\n",
       "Sandecja                18\n",
       "Stal Mielec              3\n",
       "Warta Poznań             7\n",
       "Widzew Łódź             19\n",
       "Wisła Kraków            23\n",
       "Wisła Płock             21\n",
       "Z. Sosnowiec             0\n",
       "Zagłębie Lubin           4\n",
       "ŁKS Łódź                25\n",
       "Śląsk Wrocław           13"
      ]
     },
     "execution_count": 45,
     "metadata": {},
     "output_type": "execute_result"
    }
   ],
   "source": [
    "kody.set_index('rywal').sort_values(by='rywal')"
   ]
  },
  {
   "cell_type": "code",
   "execution_count": 59,
   "id": "71724b37",
   "metadata": {
    "scrolled": false
   },
   "outputs": [
    {
     "data": {
      "text/plain": [
       "16826.0"
      ]
     },
     "execution_count": 59,
     "metadata": {},
     "output_type": "execute_result"
    }
   ],
   "source": [
    "las_losowy_final.predict([[17,2,24,1]])[0].round()"
   ]
  },
  {
   "cell_type": "code",
   "execution_count": null,
   "id": "a60d0941",
   "metadata": {},
   "outputs": [],
   "source": []
  }
 ],
 "metadata": {
  "kernelspec": {
   "display_name": "Python 3 (ipykernel)",
   "language": "python",
   "name": "python3"
  },
  "language_info": {
   "codemirror_mode": {
    "name": "ipython",
    "version": 3
   },
   "file_extension": ".py",
   "mimetype": "text/x-python",
   "name": "python",
   "nbconvert_exporter": "python",
   "pygments_lexer": "ipython3",
   "version": "3.10.9"
  }
 },
 "nbformat": 4,
 "nbformat_minor": 5
}
